{
 "cells": [
  {
   "cell_type": "code",
   "execution_count": null,
   "id": "d284f87c-01ad-4cbb-a4a0-ef7f355451dc",
   "metadata": {},
   "outputs": [],
   "source": [
    "import os\n",
    "os.environ[\"CUDA_VISIBLE_DEVICES\"]=\"0,1,2\""
   ]
  },
  {
   "cell_type": "code",
   "execution_count": null,
   "id": "0eeb2a18-7220-42a0-9e9a-0beb4b379fd3",
   "metadata": {},
   "outputs": [],
   "source": [
    "import json\n",
    "import openai\n",
    "from psy_llm_chat import LlamaChat, GptChat\n",
    "from datetime import datetime   \n",
    "import pytz\n",
    "from typing import Dict, List, Tuple\n"
   ]
  },
  {
   "cell_type": "code",
   "execution_count": null,
   "id": "b770836f-d41e-4422-86ae-27e5963897c3",
   "metadata": {},
   "outputs": [],
   "source": [
    "def get_now(\n",
    "    local_tz: str=\"America/New_York\",\n",
    "    dt_format: str=\"%d-%m-%Y—%H:%M:%S—%Z\"\n",
    ") -> str:\n",
    "    # datetime object containing current date and time\n",
    "    local = pytz.timezone(local_tz)\n",
    "    naive = datetime.now()\n",
    "    local_dt = local.localize(naive, is_dst=None)\n",
    "    utc_dt = local_dt.astimezone(pytz.utc)\n",
    "    return utc_dt.strftime(dt_format)\n",
    "\n",
    "def make_res(\n",
    "    result: List[Dict],\n",
    "    exp_name: str,\n",
    "    model_name: str\n",
    ") -> Tuple[str,Dict]:\n",
    "    now = get_now()\n",
    "    save_res = {\"experiment_name\": exp_name,\n",
    "                \"model_name\": model_name,\n",
    "                \"run_date\": now,\n",
    "                \"dialog\": result}\n",
    "    save_name = f\"{exp_name}_{model_name}_{now}.txt\"\n",
    "    return save_name, save_res"
   ]
  },
  {
   "cell_type": "code",
   "execution_count": null,
   "id": "6828f6eb-51a4-48b6-adaf-fe2a4ca29cba",
   "metadata": {},
   "outputs": [],
   "source": [
    "messages =[\n",
    "        {\"role\": \"user\", \"content\": \"Hi!\"},\n",
    "        {\"role\": \"assistant\", \"content\": \"Hi, how can I help you today?\"},\n",
    "        {\"role\": \"user\", \"content\": \"\"\"I'm going to ask you to use the TiKZ markup language to create some pictures. \n",
    "         In particular, I want you to write TiKZ code which creates a pulley system with a mechanical advantage of {}\\nCould you do that please?\"\"\"}\n",
    "    ]"
   ]
  },
  {
   "cell_type": "code",
   "execution_count": null,
   "id": "1b13b848-8b45-4253-9ad0-e45f9111e450",
   "metadata": {},
   "outputs": [],
   "source": [
    "#  print available GPT4 models\n",
    "#authenticate openai with your key\n",
    "openai.api_key = os.environ[\"OPENAI\"]\n",
    "\n",
    "[mod[\"id\"] for mod in openai.Model.list()[\"data\"] if mod[\"id\"].startswith(\"gpt-4\")]"
   ]
  },
  {
   "cell_type": "code",
   "execution_count": 11,
   "id": "6458c38c-fe0e-4997-808e-1a948321d71c",
   "metadata": {},
   "outputs": [],
   "source": [
    "GPT_NAME = 'gpt-4-0314'\n",
    "EXP_NAME = \"generate\""
   ]
  },
  {
   "cell_type": "code",
   "execution_count": 6,
   "id": "333241c5-d684-4cac-9a3b-180007caf9ae",
   "metadata": {},
   "outputs": [],
   "source": [
    "gptc = GptChat(model=GPT_NAME)"
   ]
  },
  {
   "cell_type": "code",
   "execution_count": 13,
   "id": "15f55af7-83d2-4955-ad0f-693d82072c80",
   "metadata": {},
   "outputs": [
    {
     "name": "stdout",
     "output_type": "stream",
     "text": [
      "User: Hi!\n",
      "Assistant: Hi, how can I help you today?\n",
      "User: Could you please describe how to calculate the mechanical advantage of a pulley system? You can assume the system is idealized, with not rope stretch and no friction.\n",
      "Assistant: Sure! In an idealized pulley system with no rope stretch and no friction, the mechanical advantage can be calculated by counting the number of rope segments supporting the load. This is because each rope segment shares an equal portion of the load, effectively reducing the force required to lift the load.\n",
      "\n",
      "There are two common types of pulley systems: single fixed pulley systems and multiple pulley systems (also known as block and tackle systems).\n",
      "\n",
      "1. Single fixed pulley: In this system, the pulley is fixed in place and doesn't move. The rope runs over the pulley, with one end attached to the load and the other end being pulled by the user. In this case, the mechanical advantage is 1, because there is only one rope segment supporting the load. While it doesn't provide a mechanical advantage in terms of force reduction, it does change the direction of the force, making it easier to lift the load.\n",
      "\n",
      "2. Multiple pulley system (block and tackle): In this system, there are multiple pulleys working together, with some being fixed and others being movable. The rope is threaded through the pulleys in such a way that there are multiple rope segments supporting the load. To calculate the mechanical advantage, simply count the number of rope segments supporting the load. For example, if there are 4 rope segments supporting the load, the mechanical advantage is 4. This means that the force required to lift the load is reduced by a factor of 4.\n",
      "\n",
      "Keep in mind that this is for an idealized system. In real-world applications, factors like friction and rope stretch can reduce the actual mechanical advantage achieved.\n"
     ]
    },
    {
     "name": "stdin",
     "output_type": "stream",
     "text": [
      "User:  Are there any other ways of calculating mechanical advantage in a pulley system?\n"
     ]
    },
    {
     "name": "stdout",
     "output_type": "stream",
     "text": [
      "Assistant: Yes, there are other ways to calculate the mechanical advantage in a pulley system, particularly for more complex systems. One such method is using the concept of \"work\" or \"energy conservation.\" In an idealized pulley system, the work input (or energy put into the system) must equal the work output (or energy gained by the load). Work is defined as force multiplied by distance.\n",
      "\n",
      "Work input = Work output\n",
      "\n",
      "Force input × Distance input = Force output × Distance output\n",
      "\n",
      "In a pulley system, the force input is the force applied to the rope by the user, and the distance input is the length of the rope that the user pulls. The force output is the force exerted on the load, and the distance output is the distance the load is lifted.\n",
      "\n",
      "From the work equation, we can derive the mechanical advantage (MA) as follows:\n",
      "\n",
      "Mechanical Advantage (MA) = Force output / Force input\n",
      "\n",
      "Since Force input × Distance input = Force output × Distance output, we can rewrite the mechanical advantage equation as:\n",
      "\n",
      "Mechanical Advantage (MA) = (Force input × Distance input) / (Force output × Distance output)\n",
      "\n",
      "Now, divide both sides of the equation by Force input:\n",
      "\n",
      "MA = Distance input / Distance output\n",
      "\n",
      "Thus, the mechanical advantage can also be calculated as the ratio of the input distance (the length of rope pulled) to the output distance (the distance the load is lifted). This method is particularly useful for complex pulley systems where counting the number of supporting rope segments may not be straightforward.\n"
     ]
    },
    {
     "name": "stdin",
     "output_type": "stream",
     "text": [
      "User:  END_THIS_NOW\n"
     ]
    }
   ],
   "source": [
    "result = gptc(messages) "
   ]
  },
  {
   "cell_type": "code",
   "execution_count": null,
   "id": "6840aa1f-494f-45f6-9452-a09b364b578d",
   "metadata": {},
   "outputs": [],
   "source": [
    "save_name, save_res = make_res(result,EXP_NAME,GPT_NAME) \n",
    "save_name"
   ]
  },
  {
   "cell_type": "code",
   "execution_count": 41,
   "id": "7c1da95f-1a0a-42db-b24a-e6d8999d34b0",
   "metadata": {},
   "outputs": [],
   "source": [
    "with open(f\"./{save_name}\",\"w\") as f:\n",
    "    json.dump(save_res,f,indent=4)"
   ]
  },
  {
   "cell_type": "code",
   "execution_count": 12,
   "id": "213a6566-757c-4196-840f-78db2b83ff2e",
   "metadata": {},
   "outputs": [],
   "source": [
    "#  #local models \n",
    "# model_name =\"./llama_models/models_hf/7B_chat\"\n",
    "# model_name =\"./llama_models/models_hf/13B_chat\"\n",
    "LLAMA_NAME =\"../../llama_models/models_hf/70B_chat\"\n",
    "\n",
    "# # huggingface\n",
    "# models can also be loaded from HF hub (once access has been granted), e.g.:\n",
    "# model_name = \"meta-llama/Llama-2-7b-chat-hf\"\n",
    "# model_name = \"meta-llama/Llama-2-13b-chat-hf\"\n",
    "# model_name = \"meta-llama/Llama-2-70b-chat-hf\""
   ]
  },
  {
   "cell_type": "code",
   "execution_count": 13,
   "id": "fc25ffe0-d6d7-451d-b3a1-cfdb72fb637d",
   "metadata": {},
   "outputs": [
    {
     "data": {
      "text/plain": [
       "[{'role': 'user', 'content': 'Hi!'},\n",
       " {'role': 'assistant', 'content': 'Hi, how can I help you today?'},\n",
       " {'role': 'user',\n",
       "  'content': 'Could you please describe how to calculate the mechanical advantage of a pulley system? You can assume the system is idealized, with not rope stretch and no friction.'}]"
      ]
     },
     "execution_count": 13,
     "metadata": {},
     "output_type": "execute_result"
    }
   ],
   "source": [
    "messages"
   ]
  },
  {
   "cell_type": "code",
   "execution_count": 15,
   "id": "007a6090-160b-43b6-878d-f7fd0ce57dfe",
   "metadata": {},
   "outputs": [
    {
     "data": {
      "application/vnd.jupyter.widget-view+json": {
       "model_id": "ad868646e4754ceb9597c7a6ea7c2772",
       "version_major": 2,
       "version_minor": 0
      },
      "text/plain": [
       "Loading checkpoint shards:   0%|          | 0/15 [00:00<?, ?it/s]"
      ]
     },
     "metadata": {},
     "output_type": "display_data"
    }
   ],
   "source": [
    "# load the model defined by <<model_name>>, must set output_hidden_states and ...attentions to True to access these later.\n",
    "lc = LlamaChat(LLAMA_NAME, True, max_new_tokens=1024, output_hidden_states=True, output_attentions=True)"
   ]
  },
  {
   "cell_type": "code",
   "execution_count": 16,
   "id": "b2d8afab-3ff1-4186-b493-7b0da7c535de",
   "metadata": {},
   "outputs": [
    {
     "name": "stdout",
     "output_type": "stream",
     "text": [
      "User: Hi!\n",
      "Assistant: Hi, how can I help you today?\n",
      "User: Could you please describe how to calculate the mechanical advantage of a pulley system? You can assume the system is idealized, with not rope stretch and no friction.\n"
     ]
    },
    {
     "name": "stderr",
     "output_type": "stream",
     "text": [
      "/home/coler/anaconda3/envs/llama/lib/python3.10/site-packages/transformers/generation/utils.py:1270: UserWarning: You have modified the pretrained model configuration to control generation. This is a deprecated strategy to control generation and will be removed soon, in a future version. Please use a generation configuration file (see https://huggingface.co/docs/transformers/main_classes/text_generation )\n",
      "  warnings.warn(\n"
     ]
    },
    {
     "name": "stdout",
     "output_type": "stream",
     "text": [
      "Assistant:  Sure! The mechanical advantage of a pulley system can be calculated using the following formula:\n",
      "\n",
      "Mechanical Advantage = (Number of Pulleys - 1) × (Load Input Distance / Effort Input Distance)\n",
      "\n",
      "Let's break down the formula:\n",
      "\n",
      "* Number of Pulleys: This refers to the number of pulleys in the system. In an idealized system, each pulley increases the mechanical advantage by a factor of 2, since the rope or cable is wrapped around the pulley twice. So, for example, a system with 3 pulleys would have a mechanical advantage of 2^3 = 8.\n",
      "* Load Input Distance: This is the distance between the load and the last pulley in the system. In other words, it's the distance the load travels when the effort is applied.\n",
      "* Effort Input Distance: This is the distance between the effort (or input force) and the first pulley in the system. In other words, it's the distance the effort travels before it reaches the load.\n",
      "\n",
      "Now, let's consider an example to illustrate how the formula works. Suppose we have a pulley system with 4 pulleys, and we want to lift a load of 100 kg. We apply an effort of 50 N to the first pulley, which is distance 2 m away from the load.\n",
      "\n",
      "1. First, we calculate the load input distance:\n",
      "\n",
      "Load Input Distance = Distance between load and last pulley = 4 m\n",
      "\n",
      "2. Next, we calculate the effort input distance:\n",
      "\n",
      "Effort Input Distance = Distance between effort and first pulley = 2 m\n",
      "\n",
      "3. Now we can calculate the mechanical advantage:\n",
      "\n",
      "Mechanical Advantage = (Number of Pulleys - 1) × (Load Input Distance / Effort Input Distance)\n",
      "= (4 - 1) × (4 m / 2 m)\n",
      "= 3 × 2\n",
      "= 6\n",
      "\n",
      "This means that for every 1 m of effort we apply to the first pulley, the load will be lifted 6 m.\n",
      "\n",
      "I hope this helps! Let me know if you have any further questions.\n"
     ]
    },
    {
     "name": "stdin",
     "output_type": "stream",
     "text": [
      "User:  But if it takes 1m of effort to move the load 6m, isn't the MA 1/6?\n"
     ]
    },
    {
     "name": "stdout",
     "output_type": "stream",
     "text": [
      "Assistant:  You're absolutely right! My apologies for the mistake. The mechanical advantage (MA) of a pulley system is indeed calculated as the ratio of the distance the load moves to the distance the effort moves. In this case, if the load moves 6m and the effort moves 1m, the mechanical advantage is 6/1 = 6.\n",
      "\n",
      "So, the correct calculation for the mechanical advantage in this example is:\n",
      "\n",
      "MA = Load Input Distance / Effort Input Distance = 6 m / 1 m = 6\n",
      "\n",
      "Thank you for catching that mistake and bringing it to my attention.\n"
     ]
    },
    {
     "name": "stdin",
     "output_type": "stream",
     "text": [
      "User:  Great! Thanks. Are there any other ways of calculating MA?\n"
     ]
    },
    {
     "name": "stdout",
     "output_type": "stream",
     "text": [
      "Assistant:  Yes, there are other ways to calculate the mechanical advantage of a pulley system, depending on the information you have available. Here are a few alternative methods:\n",
      "\n",
      "1. Number of wraps: If you know the number of wraps of the rope or cable around the pulley, you can calculate the mechanical advantage as follows:\n",
      "\n",
      "MA = 2^n - 1\n",
      "\n",
      "where n is the number of wraps.\n",
      "\n",
      "For example, if the rope makes 3 wraps around the pulley, the mechanical advantage would be:\n",
      "\n",
      "MA = 2^3 - 1 = 8 - 1 = 7\n",
      "\n",
      "1. Diameter of the pulley: If you know the diameter of the pulley, you can calculate the mechanical advantage using the following formula:\n",
      "\n",
      "MA = 2 × (Diameter of pulley / Effort distance)\n",
      "\n",
      "where effort distance is the distance between the effort and the pulley.\n",
      "\n",
      "For example, if the diameter of the pulley is 20 cm and the effort distance is 1 m, the mechanical advantage would be:\n",
      "\n",
      "MA = 2 × (20 cm / 1 m) = 20 / 1 = 20\n",
      "\n",
      "1. Pulleys and blocks: If you have a system with multiple pulleys and blocks, you can calculate the mechanical advantage by considering each pulley and block as a separate unit. For example, if you have a system with two pulleys and one block, the mechanical advantage would be:\n",
      "\n",
      "MA = (2 pulleys) × (2 blocks) = 4 × 2 = 8\n",
      "\n",
      "I hope these alternative methods help you understand the mechanical advantage of a pulley system better. Let me know if you have any further questions!\n"
     ]
    },
    {
     "name": "stdin",
     "output_type": "stream",
     "text": [
      "User:  What about redirection pulleys; do they change the MA of a pulley system?\n"
     ]
    },
    {
     "name": "stdout",
     "output_type": "stream",
     "text": [
      "Assistant:  Redirection pulleys, also known as redirect pulleys or deviation pulleys, do not change the mechanical advantage (MA) of a pulley system. The mechanical advantage of a pulley system is determined by the number of pulleys and the load and effort distances, as we've discussed earlier.\n",
      "\n",
      "Redirection pulleys are used to change the direction of the rope or cable, allowing it to pull on a load at a different angle than the direction of the effort. They don't affect the MA, but they do allow for more flexibility in the design of the pulley system, enabling the load to be located at a different position or height than the effort.\n",
      "\n",
      "For example, consider a pulley system with a single pulley and a load that needs to be lifted vertically. If the effort is applied at a 90-degree angle to the pulley, the mechanical advantage would be 1, as the load will move the same distance as the effort. However, if we introduce a redirection pulley that changes the direction of the rope by 90 degrees, the mechanical advantage remains the same (1), even though the load is now being lifted at a different angle than the effort.\n",
      "\n",
      "So, while redirection pulleys can be useful in modifying the direction of force transmission in a pulley system, they do not affect the mechanical advantage.\n"
     ]
    },
    {
     "name": "stdin",
     "output_type": "stream",
     "text": [
      "User:  END_THIS_NOW\n"
     ]
    }
   ],
   "source": [
    "result = lc(messages)"
   ]
  },
  {
   "cell_type": "code",
   "execution_count": 25,
   "id": "c799322e-4666-457b-b29d-19e8366e9f1e",
   "metadata": {},
   "outputs": [
    {
     "data": {
      "text/plain": [
       "('theory_70B_chat_23-08-2023—22:34:46—UTC.txt',\n",
       " {'experiment_name': 'theory',\n",
       "  'model_name': '70B_chat',\n",
       "  'run_date': '23-08-2023—22:34:46—UTC',\n",
       "  'dialog': [{'role': 'user', 'content': 'Hi!'},\n",
       "   {'role': 'assistant', 'content': 'Hi, how can I help you today?'},\n",
       "   {'role': 'user',\n",
       "    'content': 'Could you please describe how to calculate the mechanical advantage of a pulley system? You can assume the system is idealized, with not rope stretch and no friction.'},\n",
       "   {'role': 'assistant',\n",
       "    'content': \" Sure! The mechanical advantage of a pulley system can be calculated using the following formula:\\n\\nMechanical Advantage = (Number of Pulleys - 1) × (Load Input Distance / Effort Input Distance)\\n\\nLet's break down the formula:\\n\\n* Number of Pulleys: This refers to the number of pulleys in the system. In an idealized system, each pulley increases the mechanical advantage by a factor of 2, since the rope or cable is wrapped around the pulley twice. So, for example, a system with 3 pulleys would have a mechanical advantage of 2^3 = 8.\\n* Load Input Distance: This is the distance between the load and the last pulley in the system. In other words, it's the distance the load travels when the effort is applied.\\n* Effort Input Distance: This is the distance between the effort (or input force) and the first pulley in the system. In other words, it's the distance the effort travels before it reaches the load.\\n\\nNow, let's consider an example to illustrate how the formula works. Suppose we have a pulley system with 4 pulleys, and we want to lift a load of 100 kg. We apply an effort of 50 N to the first pulley, which is distance 2 m away from the load.\\n\\n1. First, we calculate the load input distance:\\n\\nLoad Input Distance = Distance between load and last pulley = 4 m\\n\\n2. Next, we calculate the effort input distance:\\n\\nEffort Input Distance = Distance between effort and first pulley = 2 m\\n\\n3. Now we can calculate the mechanical advantage:\\n\\nMechanical Advantage = (Number of Pulleys - 1) × (Load Input Distance / Effort Input Distance)\\n= (4 - 1) × (4 m / 2 m)\\n= 3 × 2\\n= 6\\n\\nThis means that for every 1 m of effort we apply to the first pulley, the load will be lifted 6 m.\\n\\nI hope this helps! Let me know if you have any further questions.\"},\n",
       "   {'role': 'user',\n",
       "    'content': \"But if it takes 1m of effort to move the load 6m, isn't the MA 1/6?\"},\n",
       "   {'role': 'assistant',\n",
       "    'content': \" You're absolutely right! My apologies for the mistake. The mechanical advantage (MA) of a pulley system is indeed calculated as the ratio of the distance the load moves to the distance the effort moves. In this case, if the load moves 6m and the effort moves 1m, the mechanical advantage is 6/1 = 6.\\n\\nSo, the correct calculation for the mechanical advantage in this example is:\\n\\nMA = Load Input Distance / Effort Input Distance = 6 m / 1 m = 6\\n\\nThank you for catching that mistake and bringing it to my attention.\"},\n",
       "   {'role': 'user',\n",
       "    'content': 'Great! Thanks. Are there any other ways of calculating MA?'},\n",
       "   {'role': 'assistant',\n",
       "    'content': ' Yes, there are other ways to calculate the mechanical advantage of a pulley system, depending on the information you have available. Here are a few alternative methods:\\n\\n1. Number of wraps: If you know the number of wraps of the rope or cable around the pulley, you can calculate the mechanical advantage as follows:\\n\\nMA = 2^n - 1\\n\\nwhere n is the number of wraps.\\n\\nFor example, if the rope makes 3 wraps around the pulley, the mechanical advantage would be:\\n\\nMA = 2^3 - 1 = 8 - 1 = 7\\n\\n1. Diameter of the pulley: If you know the diameter of the pulley, you can calculate the mechanical advantage using the following formula:\\n\\nMA = 2 × (Diameter of pulley / Effort distance)\\n\\nwhere effort distance is the distance between the effort and the pulley.\\n\\nFor example, if the diameter of the pulley is 20 cm and the effort distance is 1 m, the mechanical advantage would be:\\n\\nMA = 2 × (20 cm / 1 m) = 20 / 1 = 20\\n\\n1. Pulleys and blocks: If you have a system with multiple pulleys and blocks, you can calculate the mechanical advantage by considering each pulley and block as a separate unit. For example, if you have a system with two pulleys and one block, the mechanical advantage would be:\\n\\nMA = (2 pulleys) × (2 blocks) = 4 × 2 = 8\\n\\nI hope these alternative methods help you understand the mechanical advantage of a pulley system better. Let me know if you have any further questions!'},\n",
       "   {'role': 'user',\n",
       "    'content': 'What about redirection pulleys; do they change the MA of a pulley system?'},\n",
       "   {'role': 'assistant',\n",
       "    'content': \" Redirection pulleys, also known as redirect pulleys or deviation pulleys, do not change the mechanical advantage (MA) of a pulley system. The mechanical advantage of a pulley system is determined by the number of pulleys and the load and effort distances, as we've discussed earlier.\\n\\nRedirection pulleys are used to change the direction of the rope or cable, allowing it to pull on a load at a different angle than the direction of the effort. They don't affect the MA, but they do allow for more flexibility in the design of the pulley system, enabling the load to be located at a different position or height than the effort.\\n\\nFor example, consider a pulley system with a single pulley and a load that needs to be lifted vertically. If the effort is applied at a 90-degree angle to the pulley, the mechanical advantage would be 1, as the load will move the same distance as the effort. However, if we introduce a redirection pulley that changes the direction of the rope by 90 degrees, the mechanical advantage remains the same (1), even though the load is now being lifted at a different angle than the effort.\\n\\nSo, while redirection pulleys can be useful in modifying the direction of force transmission in a pulley system, they do not affect the mechanical advantage.\"},\n",
       "   {'role': 'user', 'content': 'END_THIS_NOW'}]})"
      ]
     },
     "execution_count": 25,
     "metadata": {},
     "output_type": "execute_result"
    }
   ],
   "source": [
    "save_name, save_res = make_res(result,EXP_NAME,LLAMA_NAME.split(\"/\")[-1]) \n",
    "save_name, save_res"
   ]
  },
  {
   "cell_type": "code",
   "execution_count": 26,
   "id": "1af58687-7414-42d0-b630-4b0cdb6d4d71",
   "metadata": {},
   "outputs": [],
   "source": [
    "with open(f\"./{save_name}\",\"w\") as f:\n",
    "    json.dump(save_res,f,indent=4)"
   ]
  }
 ],
 "metadata": {
  "kernelspec": {
   "display_name": "Python [conda env:llama_chat]",
   "language": "python",
   "name": "conda-env-llama_chat-py"
  },
  "language_info": {
   "codemirror_mode": {
    "name": "ipython",
    "version": 3
   },
   "file_extension": ".py",
   "mimetype": "text/x-python",
   "name": "python",
   "nbconvert_exporter": "python",
   "pygments_lexer": "ipython3",
   "version": "3.10.12"
  }
 },
 "nbformat": 4,
 "nbformat_minor": 5
}
