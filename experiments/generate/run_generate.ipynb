{
 "cells": [
  {
   "cell_type": "code",
   "execution_count": 1,
   "id": "d284f87c-01ad-4cbb-a4a0-ef7f355451dc",
   "metadata": {},
   "outputs": [],
   "source": [
    "import os\n",
    "os.environ[\"CUDA_VISIBLE_DEVICES\"]=\"0,1\""
   ]
  },
  {
   "cell_type": "code",
   "execution_count": 2,
   "id": "0eeb2a18-7220-42a0-9e9a-0beb4b379fd3",
   "metadata": {},
   "outputs": [
    {
     "name": "stdout",
     "output_type": "stream",
     "text": [
      "\n",
      "===================================BUG REPORT===================================\n",
      "Welcome to bitsandbytes. For bug reports, please run\n",
      "\n",
      "python -m bitsandbytes\n",
      "\n",
      " and submit this information together with your error trace to: https://github.com/TimDettmers/bitsandbytes/issues\n",
      "================================================================================\n",
      "bin /home/coler/anaconda3/envs/llama/lib/python3.10/site-packages/bitsandbytes/libbitsandbytes_cuda117.so\n",
      "CUDA SETUP: CUDA runtime path found: /usr/local/cuda/lib64/libcudart.so.11.0\n",
      "CUDA SETUP: Highest compute capability among GPUs detected: 8.0\n",
      "CUDA SETUP: Detected CUDA version 117\n",
      "CUDA SETUP: Loading binary /home/coler/anaconda3/envs/llama/lib/python3.10/site-packages/bitsandbytes/libbitsandbytes_cuda117.so...\n"
     ]
    },
    {
     "name": "stderr",
     "output_type": "stream",
     "text": [
      "/home/coler/anaconda3/envs/llama/lib/python3.10/site-packages/bitsandbytes/cuda_setup/main.py:149: UserWarning: /home/coler/anaconda3/envs/llama did not contain ['libcudart.so', 'libcudart.so.11.0', 'libcudart.so.12.0'] as expected! Searching further paths...\n",
      "  warn(msg)\n"
     ]
    }
   ],
   "source": [
    "import json\n",
    "import openai\n",
    "from psy_llm_chat import LlamaChat, GptChat\n",
    "from datetime import datetime   \n",
    "import pytz\n",
    "from typing import Dict, List, Tuple\n",
    "from copy import deepcopy"
   ]
  },
  {
   "cell_type": "code",
   "execution_count": 3,
   "id": "b770836f-d41e-4422-86ae-27e5963897c3",
   "metadata": {},
   "outputs": [],
   "source": [
    "def get_now(\n",
    "    local_tz: str=\"America/New_York\",\n",
    "    dt_format: str=\"%d-%m-%Y—%H:%M:%S—%Z\"\n",
    ") -> str:\n",
    "    # datetime object containing current date and time\n",
    "    local = pytz.timezone(local_tz)\n",
    "    naive = datetime.now()\n",
    "    local_dt = local.localize(naive, is_dst=None)\n",
    "    utc_dt = local_dt.astimezone(pytz.utc)\n",
    "    return utc_dt.strftime(dt_format)\n",
    "\n",
    "def make_res(\n",
    "    result: List[Dict],\n",
    "    exp_name: str,\n",
    "    model_name: str\n",
    ") -> Tuple[str,Dict]:\n",
    "    now = get_now()\n",
    "    save_res = {\"experiment_name\": exp_name,\n",
    "                \"model_name\": model_name,\n",
    "                \"run_date\": now,\n",
    "                \"dialog\": result}\n",
    "    save_name = f\"{exp_name}_{model_name}_{now}.txt\"\n",
    "    return save_name, save_res"
   ]
  },
  {
   "cell_type": "code",
   "execution_count": 4,
   "id": "6828f6eb-51a4-48b6-adaf-fe2a4ca29cba",
   "metadata": {},
   "outputs": [],
   "source": [
    "messages =[\n",
    "        {\"role\": \"user\", \"content\": \"Hi!\"},\n",
    "        {\"role\": \"assistant\", \"content\": \"Hi, how can I help you today?\"},\n",
    "        {\"role\": \"user\", \"content\": \"\"\"I'm going to ask you to use the TiKZ markup language to create some pictures. \n",
    "         In particular, I want you to write TiKZ code which creates a pulley system with a mechanical advantage of {}\n",
    "         Could you do that please?\"\"\"}\n",
    "    ]"
   ]
  },
  {
   "cell_type": "code",
   "execution_count": 5,
   "id": "1b13b848-8b45-4253-9ad0-e45f9111e450",
   "metadata": {},
   "outputs": [
    {
     "data": {
      "text/plain": [
       "['gpt-4-0314', 'gpt-4-0613', 'gpt-4']"
      ]
     },
     "execution_count": 5,
     "metadata": {},
     "output_type": "execute_result"
    }
   ],
   "source": [
    "#  print available GPT4 models\n",
    "#authenticate openai with your key\n",
    "openai.api_key = os.environ[\"OPENAI\"]\n",
    "[mod[\"id\"] for mod in openai.Model.list()[\"data\"] if mod[\"id\"].startswith(\"gpt-4\")]"
   ]
  },
  {
   "cell_type": "code",
   "execution_count": 6,
   "id": "6458c38c-fe0e-4997-808e-1a948321d71c",
   "metadata": {},
   "outputs": [],
   "source": [
    "GPT_NAME = 'gpt-4-0314'\n",
    "EXP_NAME = \"generate\""
   ]
  },
  {
   "cell_type": "code",
   "execution_count": 7,
   "id": "333241c5-d684-4cac-9a3b-180007caf9ae",
   "metadata": {},
   "outputs": [],
   "source": [
    "gptc = GptChat(model=GPT_NAME)"
   ]
  },
  {
   "cell_type": "code",
   "execution_count": 8,
   "id": "39c2ebde-26b3-4149-94f7-87ecfc24beaa",
   "metadata": {},
   "outputs": [],
   "source": [
    "def run_generate(chat_cls):\n",
    "    results = []\n",
    "    for i in range(1,6):\n",
    "            msg = deepcopy(messages)\n",
    "            msg[-1][\"content\"] = msg[-1][\"content\"].format(i)\n",
    "\n",
    "            result = chat_cls(msg)\n",
    "            results += [result]\n",
    "    return results\n"
   ]
  },
  {
   "cell_type": "code",
   "execution_count": 9,
   "id": "70dee44c-4bbc-48f6-8530-5ae045700bbc",
   "metadata": {},
   "outputs": [
    {
     "name": "stdout",
     "output_type": "stream",
     "text": [
      "User: Hi!\n",
      "Assistant: Hi, how can I help you today?\n",
      "User: I'm going to ask you to use the TiKZ markup language to create some pictures. \n",
      "         In particular, I want you to write TiKZ code which creates a pulley system with a mechanical advantage of 1\n",
      "         Could you do that please?\n",
      "Assistant: I'd be happy to help you create a simple pulley system using TiKZ! Here's a basic example of a pulley system with a mechanical advantage of 1:\n",
      "\n",
      "```latex\n",
      "\\documentclass{standalone}\n",
      "\\usepackage{tikz}\n",
      "\\usetikzlibrary{calc}\n",
      "\n",
      "\\begin{document}\n",
      "\\begin{tikzpicture}\n",
      "    % Pulley\n",
      "    \\draw (0,0) circle (0.5cm);\n",
      "    \\draw[fill=white] (0,0) circle (0.1cm);\n",
      "\n",
      "    % Rope\n",
      "    \\draw[ultra thick] (0,-0.5) -- ++(0,-1.5) node[midway, right] {Load};\n",
      "    \\draw[ultra thick] (0,0.5) -- ++(0,1.5) node[midway, right] {Effort};\n",
      "\n",
      "    % Anchor point\n",
      "    \\filldraw[black] (0,2) circle (0.1cm) node[above] {Anchor};\n",
      "    \\draw[ultra thick] (0,2) -- (0,0.5);\n",
      "\n",
      "    % Dimensions\n",
      "    \\draw[<->, thick] (-1,-2) -- (-1,0) node[midway, left] {1};\n",
      "    \\draw[<->, thick] (-1,0) -- (-1,2) node[midway, left] {1};\n",
      "\\end{tikzpicture}\n",
      "\\end{document}\n",
      "```\n",
      "\n",
      "This code creates a single pulley with a rope going up to an anchor point and back down. The load is attached at the bottom of the rope, and the effort is applied at the top. The mechanical advantage is 1 because the effort and load are equal in this simple system.\n"
     ]
    },
    {
     "name": "stdin",
     "output_type": "stream",
     "text": [
      "User:  END_THIS_NOW\n"
     ]
    },
    {
     "name": "stdout",
     "output_type": "stream",
     "text": [
      "User: Hi!\n",
      "Assistant: Hi, how can I help you today?\n",
      "User: I'm going to ask you to use the TiKZ markup language to create some pictures. \n",
      "         In particular, I want you to write TiKZ code which creates a pulley system with a mechanical advantage of 2\n",
      "         Could you do that please?\n",
      "Assistant: I can help you write the TiKZ code for a pulley system with a mechanical advantage of 2. Here's the code:\n",
      "\n",
      "```latex\n",
      "\\documentclass{standalone}\n",
      "\\usepackage{tikz}\n",
      "\\usetikzlibrary{calc}\n",
      "\n",
      "\\begin{document}\n",
      "\\begin{tikzpicture}\n",
      "    % Support\n",
      "    \\draw[line width=1.5pt] (-1,0) -- (6,0);\n",
      "    \n",
      "    % Pulleys\n",
      "    \\draw (1,0) circle (0.5);\n",
      "    \\draw (4,0) circle (0.5);\n",
      "    \n",
      "    % Pulley centers\n",
      "    \\fill (1,0) circle (0.05);\n",
      "    \\fill (4,0) circle (0.05);\n",
      "    \n",
      "    % Rope\n",
      "    \\draw[line width=1pt] (1,0.5) -- (1,2) -- (4,2) -- (4,-0.5) -- (2,-0.5);\n",
      "    \n",
      "    % Load\n",
      "    \\draw[line width=1.5pt, fill=gray!30] (1.5,-1) rectangle (2.5,0);\n",
      "    \\draw[line width=1.5pt] (2,-0.5) -- (2,0);\n",
      "    \n",
      "    % Labels\n",
      "    \\node[above] at (1,0.5) {A};\n",
      "    \\node[above] at (4,0.5) {B};\n",
      "    \\node[below] at (2,-1) {Load};\n",
      "\\end{tikzpicture}\n",
      "\\end{document}\n",
      "```\n",
      "\n",
      "This code creates a simple pulley system with two pulleys (A and B) and a rope. The mechanical advantage of this system is 2, as the load is supported by two rope segments. You can compile this code using a LaTeX compiler to generate the pulley system image.\n"
     ]
    },
    {
     "name": "stdin",
     "output_type": "stream",
     "text": [
      "User:  END_THIS_NOW\n"
     ]
    },
    {
     "name": "stdout",
     "output_type": "stream",
     "text": [
      "User: Hi!\n",
      "Assistant: Hi, how can I help you today?\n",
      "User: I'm going to ask you to use the TiKZ markup language to create some pictures. \n",
      "         In particular, I want you to write TiKZ code which creates a pulley system with a mechanical advantage of 3\n",
      "         Could you do that please?\n",
      "Assistant: I can certainly help you create a TiKZ code for a pulley system with a mechanical advantage of 3. Here's a simple example:\n",
      "\n",
      "```latex\n",
      "\\documentclass{standalone}\n",
      "\\usepackage{tikz}\n",
      "\\usetikzlibrary{calc}\n",
      "\n",
      "\\begin{document}\n",
      "\\begin{tikzpicture}\n",
      "  % Define the pulleys\n",
      "  \\draw (0,0) circle (0.5cm);\n",
      "  \\draw (3,0) circle (0.5cm);\n",
      "  \\draw (1.5,-2) circle (0.5cm);\n",
      "\n",
      "  % Draw the rope\n",
      "  \\draw (0,0.5) -- ++(0,1) node[above] {A};\n",
      "  \\draw (3,0.5) -- ++(0,1) node[above] {B};\n",
      "  \\draw (0,-0.5) -- (1.5,-0.5) -- (1.5,-2.5) node[below] {Load};\n",
      "  \\draw (3,-0.5) -- (1.5,-0.5);\n",
      "\n",
      "  % Add labels\n",
      "  \\node at (0,0) [circle,fill,inner sep=1pt,label=above:Pulley 1] {};\n",
      "  \\node at (3,0) [circle,fill,inner sep=1pt,label=above:Pulley 2] {};\n",
      "  \\node at (1.5,-2) [circle,fill,inner sep=1pt,label=below:Pulley 3] {};\n",
      "\\end{tikzpicture}\n",
      "\\end{document}\n",
      "```\n",
      "\n",
      "This code will create a simple pulley system with three pulleys (A, B, and the Load) and a mechanical advantage of 3. You can adjust the positions and sizes of the pulleys as needed.\n"
     ]
    },
    {
     "name": "stdin",
     "output_type": "stream",
     "text": [
      "User:  END_THIS_NOW\n"
     ]
    },
    {
     "name": "stdout",
     "output_type": "stream",
     "text": [
      "User: Hi!\n",
      "Assistant: Hi, how can I help you today?\n",
      "User: I'm going to ask you to use the TiKZ markup language to create some pictures. \n",
      "         In particular, I want you to write TiKZ code which creates a pulley system with a mechanical advantage of 4\n",
      "         Could you do that please?\n",
      "Assistant: I can certainly help you create a TiKZ code for a pulley system with a mechanical advantage of 4. Here's a basic example:\n",
      "\n",
      "```latex\n",
      "\\documentclass{standalone}\n",
      "\\usepackage{tikz}\n",
      "\\usetikzlibrary{calc}\n",
      "\n",
      "\\begin{document}\n",
      "\\begin{tikzpicture}\n",
      "  % Define pulley size\n",
      "  \\def\\pulleyradius{0.5cm}\n",
      "\n",
      "  % Draw pulleys\n",
      "  \\foreach \\x in {1,2,3,4} {\n",
      "    \\draw (\\x*2,0) circle (\\pulleyradius);\n",
      "    \\draw[fill=white] (\\x*2,0) circle (0.05cm);\n",
      "  }\n",
      "\n",
      "  % Draw rope\n",
      "  \\draw (2,0) -- ++(0,-1) -- ++(-1,0) -- ++(0,3) -- ($(3*2,0)+(0,\\pulleyradius)$);\n",
      "  \\draw (4,0) -- ($(4,0)-(0,\\pulleyradius)$) -- ++(-2,0) -- ($(2*2,0)+(0,\\pulleyradius)$);\n",
      "  \\draw (6,0) -- ($(6,0)-(0,\\pulleyradius)$) -- ++(-2,0) -- ($(3*2,0)+(0,\\pulleyradius)$);\n",
      "  \\draw (8,0) -- ($(8,0)-(0,\\pulleyradius)$) -- ++(-2,0) -- ($(4*2,0)+(0,\\pulleyradius)$);\n",
      "\n",
      "  % Draw load\n",
      "  \\draw[fill=gray] (1,-1) rectangle ++(1,-0.5) node[midway, below] {Load};\n",
      "\n",
      "\\end{tikzpicture}\n",
      "\\end{document}\n",
      "```\n",
      "\n",
      "This code creates a pulley system with a mechanical advantage of 4 by drawing four pulleys and a rope that goes through them. The load is attached to the left side of the rope. You can adjust the pulley size and positions by modifying the variables in the code.\n"
     ]
    },
    {
     "name": "stdin",
     "output_type": "stream",
     "text": [
      "User:  END_THIS_NOW\n"
     ]
    },
    {
     "name": "stdout",
     "output_type": "stream",
     "text": [
      "User: Hi!\n",
      "Assistant: Hi, how can I help you today?\n",
      "User: I'm going to ask you to use the TiKZ markup language to create some pictures. \n",
      "         In particular, I want you to write TiKZ code which creates a pulley system with a mechanical advantage of 5\n",
      "         Could you do that please?\n",
      "Assistant: I'm an AI language model, and I'm unable to directly create or render TiKZ code. However, I can guide you through the process and provide you with an example of how you might create a pulley system with a mechanical advantage of 5 using TiKZ.\n",
      "\n",
      "To create a pulley system with a mechanical advantage of 5, you'll need a compound pulley system. This can be achieved by having two sets of pulleys: one set with two pulleys and another set with three pulleys. Here's an example of how you might write the TiKZ code for this:\n",
      "\n",
      "```latex\n",
      "\\documentclass[tikz,border=2mm]{standalone}\n",
      "\\usetikzlibrary{calc}\n",
      "\n",
      "\\begin{document}\n",
      "\\begin{tikzpicture}\n",
      "    % Define pulley size and rope thickness\n",
      "    \\def\\pulleyradius{0.5cm}\n",
      "    \\def\\ropethickness{1pt}\n",
      "\n",
      "    % Draw the two-pulley set\n",
      "    \\draw[thick] (0,0) -- (0,3);\n",
      "    \\draw[thick] (0,3) circle (\\pulleyradius);\n",
      "    \\draw[thick] (1,3) circle (\\pulleyradius);\n",
      "    \\draw[very thick] (0,3+\\pulleyradius) -- (1,3+\\pulleyradius);\n",
      "    \\draw[thick] (1,0) -- (1,3);\n",
      "\n",
      "    % Draw the three-pulley set\n",
      "    \\draw[thick] (3,0) -- (3,3);\n",
      "    \\draw[thick] (3,3) circle (\\pulleyradius);\n",
      "    \\draw[thick] (4,3) circle (\\pulleyradius);\n",
      "    \\draw[thick] (4,2) circle (\\pulleyradius);\n",
      "    \\draw[very thick] (3,3+\\pulleyradius) -- (4,3+\\pulleyradius);\n",
      "    \\draw[very thick] (4,2+\\pulleyradius) -- (4,3-\\pulleyradius);\n",
      "    \\draw[thick] (4,0) -- (4,2);\n",
      "\n",
      "    % Draw the ropes\n",
      "    \\draw[ultra thick] (0,3-\\pulleyradius) -- (1,3-\\pulleyradius);\n",
      "    \\draw[ultra thick] (1,3+\\pulleyradius) -- (3,3+\\pulleyradius);\n",
      "    \\draw[ultra thick] (3,3-\\pulleyradius) -- (4,3-\\pulleyradius);\n",
      "    \\draw[ultra thick] (4,2+\\pulleyradius) -- (4,3-\\pulleyradius);\n",
      "    \\draw[ultra thick] (4,2-\\pulleyradius) -- (4,0);\n",
      "\\end{tikzpicture}\n",
      "\\end{document}\n",
      "```\n",
      "\n",
      "This code will create a simple compound pulley system with a mechanical advantage of 5. You can adjust the size and position of the pulleys and ropes by changing the values of `\\pulleyradius` and `\\ropethickness`, as well as the coordinates in the `\\draw` commands.\n"
     ]
    },
    {
     "name": "stdin",
     "output_type": "stream",
     "text": [
      "User:  Where is the force and where is the load\\/\n"
     ]
    },
    {
     "name": "stdout",
     "output_type": "stream",
     "text": [
      "Assistant: In the given example, the force (effort) is applied at the bottom of the rope in the three-pulley set, and the load is supported by the two-pulley set.\n",
      "\n",
      "To make it clearer, I'll add labels to the force and load in the TiKZ code:\n",
      "\n",
      "```latex\n",
      "\\documentclass[tikz,border=2mm]{standalone}\n",
      "\\usetikzlibrary{calc}\n",
      "\n",
      "\\begin{document}\n",
      "\\begin{tikzpicture}\n",
      "    % Define pulley size and rope thickness\n",
      "    \\def\\pulleyradius{0.5cm}\n",
      "    \\def\\ropethickness{1pt}\n",
      "\n",
      "    % Draw the two-pulley set (Load)\n",
      "    \\draw[thick] (0,0) -- (0,3);\n",
      "    \\draw[thick] (0,3) circle (\\pulleyradius);\n",
      "    \\draw[thick] (1,3) circle (\\pulleyradius);\n",
      "    \\draw[very thick] (0,3+\\pulleyradius) -- (1,3+\\pulleyradius);\n",
      "    \\draw[thick] (1,0) -- (1,3);\n",
      "    \\node at (0.5, 0) [below] {Load};\n",
      "\n",
      "    % Draw the three-pulley set (Force/Effort)\n",
      "    \\draw[thick] (3,0) -- (3,3);\n",
      "    \\draw[thick] (3,3) circle (\\pulleyradius);\n",
      "    \\draw[thick] (4,3) circle (\\pulleyradius);\n",
      "    \\draw[thick] (4,2) circle (\\pulleyradius);\n",
      "    \\draw[very thick] (3,3+\\pulleyradius) -- (4,3+\\pulleyradius);\n",
      "    \\draw[very thick] (4,2+\\pulleyradius) -- (4,3-\\pulleyradius);\n",
      "    \\draw[thick] (4,0) -- (4,2);\n",
      "    \\node at (4, 0) [below] {Force (Effort)};\n",
      "\n",
      "    % Draw the ropes\n",
      "    \\draw[ultra thick] (0,3-\\pulleyradius) -- (1,3-\\pulleyradius);\n",
      "    \\draw[ultra thick] (1,3+\\pulleyradius) -- (3,3+\\pulleyradius);\n",
      "    \\draw[ultra thick] (3,3-\\pulleyradius) -- (4,3-\\pulleyradius);\n",
      "    \\draw[ultra thick] (4,2+\\pulleyradius) -- (4,3-\\pulleyradius);\n",
      "    \\draw[ultra thick] (4,2-\\pulleyradius) -- (4,0);\n",
      "\\end{tikzpicture}\n",
      "\\end{document}\n",
      "```\n",
      "\n",
      "Now, the load is labeled below the two-pulley set, and the force (effort) is labeled below the three-pulley set. The force is applied at the bottom of the rope in the three-pulley set, pulling the rope upward, while the load is supported by the two-pulley set.\n"
     ]
    },
    {
     "name": "stdin",
     "output_type": "stream",
     "text": [
      "User:  END_THIS_NOW\n"
     ]
    }
   ],
   "source": [
    "gpt_results = run_generate(gptc)"
   ]
  },
  {
   "cell_type": "code",
   "execution_count": 10,
   "id": "6840aa1f-494f-45f6-9452-a09b364b578d",
   "metadata": {},
   "outputs": [
    {
     "data": {
      "text/plain": [
       "'generate_gpt-4-0314_23-08-2023—23:52:31—UTC.txt'"
      ]
     },
     "execution_count": 10,
     "metadata": {},
     "output_type": "execute_result"
    }
   ],
   "source": [
    "gpt_name, gpt_res = make_res(gpt_results,EXP_NAME,GPT_NAME) \n",
    "gpt_name"
   ]
  },
  {
   "cell_type": "code",
   "execution_count": 11,
   "id": "7c1da95f-1a0a-42db-b24a-e6d8999d34b0",
   "metadata": {},
   "outputs": [],
   "source": [
    "with open(f\"./{gpt_name}\",\"w\") as f:\n",
    "    json.dump(gpt_res,f,indent=4)"
   ]
  },
  {
   "cell_type": "code",
   "execution_count": 12,
   "id": "213a6566-757c-4196-840f-78db2b83ff2e",
   "metadata": {},
   "outputs": [],
   "source": [
    "#  #local models \n",
    "# model_name =\"./llama_models/models_hf/7B_chat\"\n",
    "# model_name =\"./llama_models/models_hf/13B_chat\"\n",
    "LLAMA_NAME =\"../../llama_models/models_hf/70B_chat\"\n",
    "\n",
    "# # huggingface\n",
    "# models can also be loaded from HF hub (once access has been granted), e.g.:\n",
    "# model_name = \"meta-llama/Llama-2-7b-chat-hf\"\n",
    "# model_name = \"meta-llama/Llama-2-13b-chat-hf\"\n",
    "# model_name = \"meta-llama/Llama-2-70b-chat-hf\""
   ]
  },
  {
   "cell_type": "code",
   "execution_count": 13,
   "id": "fc25ffe0-d6d7-451d-b3a1-cfdb72fb637d",
   "metadata": {},
   "outputs": [
    {
     "data": {
      "text/plain": [
       "[{'role': 'user', 'content': 'Hi!'},\n",
       " {'role': 'assistant', 'content': 'Hi, how can I help you today?'},\n",
       " {'role': 'user',\n",
       "  'content': \"I'm going to ask you to use the TiKZ markup language to create some pictures. \\n         In particular, I want you to write TiKZ code which creates a pulley system with a mechanical advantage of {}\\n         Could you do that please?\"}]"
      ]
     },
     "execution_count": 13,
     "metadata": {},
     "output_type": "execute_result"
    }
   ],
   "source": [
    "messages"
   ]
  },
  {
   "cell_type": "code",
   "execution_count": 14,
   "id": "007a6090-160b-43b6-878d-f7fd0ce57dfe",
   "metadata": {},
   "outputs": [
    {
     "data": {
      "application/vnd.jupyter.widget-view+json": {
       "model_id": "0ddb9698aa1e4754b9fbd2442deedf32",
       "version_major": 2,
       "version_minor": 0
      },
      "text/plain": [
       "Loading checkpoint shards:   0%|          | 0/15 [00:00<?, ?it/s]"
      ]
     },
     "metadata": {},
     "output_type": "display_data"
    }
   ],
   "source": [
    "# load the model defined by <<model_name>>, must set output_hidden_states and ...attentions to True to access these later.\n",
    "lc = LlamaChat(LLAMA_NAME, True, max_new_tokens=1024, output_hidden_states=True, output_attentions=True)"
   ]
  },
  {
   "cell_type": "code",
   "execution_count": 15,
   "id": "b2d8afab-3ff1-4186-b493-7b0da7c535de",
   "metadata": {},
   "outputs": [
    {
     "name": "stdout",
     "output_type": "stream",
     "text": [
      "User: Hi!\n",
      "Assistant: Hi, how can I help you today?\n",
      "User: I'm going to ask you to use the TiKZ markup language to create some pictures. \n",
      "         In particular, I want you to write TiKZ code which creates a pulley system with a mechanical advantage of 1\n",
      "         Could you do that please?\n"
     ]
    },
    {
     "name": "stderr",
     "output_type": "stream",
     "text": [
      "/home/coler/anaconda3/envs/llama/lib/python3.10/site-packages/transformers/generation/utils.py:1270: UserWarning: You have modified the pretrained model configuration to control generation. This is a deprecated strategy to control generation and will be removed soon, in a future version. Please use a generation configuration file (see https://huggingface.co/docs/transformers/main_classes/text_generation )\n",
      "  warnings.warn(\n"
     ]
    },
    {
     "name": "stdout",
     "output_type": "stream",
     "text": [
      "Assistant:  Sure, I'd be happy to help you with that! Here's an example of a pulley system with a mechanical advantage of 1 using TiKZ:\n",
      "```\n",
      "\\documentclass{article}\n",
      "\\usepackage{tikz}\n",
      "\\usetikzlibrary{positioning,shapes}\n",
      "\n",
      "\\begin{document}\n",
      "\n",
      "\\begin{tikzpicture}[node distance=2cm, >=stealth]\n",
      "\n",
      "% Pulley wheels\n",
      "\\node (w1) at (0,0) {W};\n",
      "\\node (w2) at (2,0) {W};\n",
      "\n",
      "% Pulley axles\n",
      "\\draw (w1) -- (-0.5,0);\n",
      "\\draw (w2) -- (2.5,0);\n",
      "\n",
      "% Rope\n",
      "\\draw[red,very thick] (w1) -- (w2);\n",
      "\n",
      "% Load\n",
      "\\node (load) at (1.5,1.5) {L};\n",
      "\n",
      "% Force applied to rope\n",
      "\\draw[blue,very thick,latex-latex] (load) -- (w2);\n",
      "\n",
      "% Labels\n",
      "\\node at (-0.5,0.5) {A};\n",
      "\\node at (2.5,0.5) {B};\n",
      "\\node at (1.5,2.5) {F};\n",
      "\n",
      "\\end{tikzpicture}\n",
      "\n",
      "\\end{document}\n",
      "```\n",
      "This will produce a diagram of a pulley system with two pulley wheels, a rope that connects them, and a load attached to one of the pulleys. The force applied to the rope is also shown.\n",
      "\n",
      "The mechanical advantage of this pulley system can be calculated as follows:\n",
      "\n",
      "Mechanical Advantage = (Distance from fulcrum to effort) / (Distance from fulcrum to load)\n",
      "\n",
      "In this case, the distance from the fulcrum (the axle of the pulley wheel) to the effort (the force applied to the rope) is 2cm, and the distance from the fulcrum to the load is also 2cm. Therefore, the mechanical advantage is 1, which means that for every 1cm of effort applied to the rope, the load will be lifted 1cm.\n",
      "\n",
      "I hope this helps! Let me know if you have any questions or if you need further assistance.\n"
     ]
    },
    {
     "name": "stdin",
     "output_type": "stream",
     "text": [
      "User:  But there are no wheels in that diagram. Can you redraw with wheels please?\n"
     ]
    },
    {
     "name": "stdout",
     "output_type": "stream",
     "text": [
      "Assistant: Sure, here's a revised version of the pulley system with wheels:\n",
      "```\n",
      "\\documentclass{article}\n",
      "\\usepackage{tikz}\n",
      "\\usetikzlibrary{positioning,shapes}\n",
      "\n",
      "\\begin{document}\n",
      "\n",
      "\\begin{tikzpicture}[node distance=2cm, >=stealth]\n",
      "\n",
      "% Pulley wheels\n",
      "\\node (w1) at (0,0) {W};\n",
      "\\node (w2) at (2,0) {W};\n",
      "\n",
      "% Pulley axles\n",
      "\\draw (w1) -- (-0.5,0);\n",
      "\\draw (w2) -- (2.5,0);\n",
      "\n",
      "% Wheels\n",
      "\\draw (w1) circle (0.5);\n",
      "\\draw (w2) circle (0.5);\n",
      "\n",
      "% Rope\n",
      "\\draw[red,very thick] (w1) -- (w2);\n",
      "\n",
      "% Load\n",
      "\\node (load) at (1.5,1.5) {L};\n",
      "\n",
      "% Force applied to rope\n",
      "\\draw[blue,very thick,latex-latex] (load) -- (w2);\n",
      "\n",
      "% Labels\n",
      "\\node at (-0.5,0.5) {A};\n",
      "\\node at (2.5,0.5) {B};\n",
      "\\node at (1.5,2.5) {F};\n",
      "\n",
      "\\end{tikzpicture}\n",
      "\n",
      "\\end{document}\n",
      "```\n",
      "This will produce a diagram of a pulley system with two pulley wheels, a rope that connects them, and a load attached to one of the pulleys. The force applied to the rope is also shown.\n",
      "\n",
      "The mechanical advantage of this pulley system can still be calculated as follows:\n",
      "\n",
      "Mechanical Advantage = (Distance from fulcrum to effort) / (Distance from fulcrum to load)\n",
      "\n",
      "In this case, the distance from the fulcrum (the axle of the pulley wheel) to the effort (the force applied to the rope) is 2cm, and the distance from the fulcrum to the load is also 2cm. Therefore, the mechanical advantage is still 1, which means that for every 1cm of effort applied to the rope, the load will be lifted 1cm.\n",
      "\n",
      "I hope this revised diagram better represents the pulley system you had in mind! Let me know if you have any further questions or if there's anything else I can help you with.\n"
     ]
    },
    {
     "name": "stdin",
     "output_type": "stream",
     "text": [
      "User:  END_THIS_NOW\n"
     ]
    },
    {
     "name": "stdout",
     "output_type": "stream",
     "text": [
      "User: Hi!\n",
      "Assistant: Hi, how can I help you today?\n",
      "User: I'm going to ask you to use the TiKZ markup language to create some pictures. \n",
      "         In particular, I want you to write TiKZ code which creates a pulley system with a mechanical advantage of 2\n",
      "         Could you do that please?\n",
      "Assistant:  Sure, I'd be happy to help you with that! Here's an example of a pulley system with a mechanical advantage of 2 using TiKZ:\n",
      "```\n",
      "\\documentclass{article}\n",
      "\\usepackage{tikz}\n",
      "\\usetikzlibrary{positioning, arrows}\n",
      "\n",
      "\\begin{document}\n",
      "\n",
      "\\begin{tikzpicture}[block/.style={rectangle, draw, fill=blue!20,\n",
      "    text width=2.5cm, align=center, rounded corners},\n",
      "   pulley/.style={circle, draw, fill=red!50, inner sep=2pt}]\n",
      "\n",
      "% Blocks\n",
      "\\node (block1) [block] {1};\n",
      "\\node (block2) [block, below=of block1] {2};\n",
      "\n",
      "% Pulley\n",
      "\\node (pulley1) [pulley, above=of block1] {};\n",
      "\\node (pulley2) [pulley, below=of block2] {};\n",
      "\n",
      "% Ropes\n",
      "\\draw[-latex, thick] (block1) -- (pulley1);\n",
      "\\draw[-latex, thick] (pulley1) -- (pulley2);\n",
      "\\draw[-latex, thick] (pulley2) -- (block2);\n",
      "\n",
      "% Labels\n",
      "\\node at ($(pulley1)!0.5!(pulley2)$) {2};\n",
      "\\node at ($(block1)!0.5!(block2)$) {1};\n",
      "\n",
      "\\end{tikzpicture}\n",
      "\n",
      "\\end{document}\n",
      "```\n",
      "This will produce a diagram of a pulley system with two blocks and two pulleys, where the mechanical advantage is 2. The blocks are represented by rectangles, and the pulleys are represented by circles. The ropes connecting the blocks and pulleys are shown using arrows, and the label \"2\" is placed at the center of the pulley system to indicate the mechanical advantage.\n",
      "\n",
      "I hope this helps! Let me know if you have any questions or need further assistance.\n"
     ]
    },
    {
     "name": "stdin",
     "output_type": "stream",
     "text": [
      "User:  END_THIS_NOW\n"
     ]
    },
    {
     "name": "stdout",
     "output_type": "stream",
     "text": [
      "User: Hi!\n",
      "Assistant: Hi, how can I help you today?\n",
      "User: I'm going to ask you to use the TiKZ markup language to create some pictures. \n",
      "         In particular, I want you to write TiKZ code which creates a pulley system with a mechanical advantage of 3\n",
      "         Could you do that please?\n",
      "Assistant:  Sure! Here's an example of a pulley system with a mechanical advantage of 3 using TiKZ:\n",
      "```\n",
      "\\documentclass{article}\n",
      "\\usepackage{tikz}\n",
      "\\usetikzlibrary{positioning,shapes.geometric}\n",
      "\n",
      "\\begin{document}\n",
      "\n",
      "\\begin{tikzpicture}[node distance=2cm]\n",
      "\n",
      "% Pulley wheel 1\n",
      "\\node (pulley1) at (0,0) {{\\Large Wheel 1}};\n",
      "\\draw (pulley1.center) circle (0.5);\n",
      "\n",
      "% Pulley wheel 2\n",
      "\\node (pulley2) at (3,0) {{\\Large Wheel 2}};\n",
      "\\draw (pulley2.center) circle (0.5);\n",
      "\n",
      "% Rope\n",
      "\\draw [thin, ->] (pulley1) -- (pulley2);\n",
      "\n",
      "% Force input\n",
      "\\node (force) at (-1,1.5) {{\\Large Force Input}};\n",
      "\\draw [thin, ->] (force) -- (-0.5,0.5);\n",
      "\n",
      "% Load\n",
      "\\node (load) at (4,1.5) {{\\Large Load}};\n",
      "\\draw [thin, ->] (load) -- (3.5,0.5);\n",
      "\n",
      "% Mechanical advantage label\n",
      "\\node at (1.5,1) {{\\Large Mechanical Advantage = 3}};\n",
      "\n",
      "\\end{tikzpicture}\n",
      "\n",
      "\\end{document}\n",
      "```\n",
      "This code creates a simple pulley system with two pulley wheels and a rope that passes over them. The force input and load are also shown, and a label indicates the mechanical advantage of the system, which is 3.\n",
      "\n",
      "I hope this helps! Let me know if you need further assistance.\n"
     ]
    },
    {
     "name": "stdin",
     "output_type": "stream",
     "text": [
      "User:  END_THIS_NOW\n"
     ]
    },
    {
     "name": "stdout",
     "output_type": "stream",
     "text": [
      "User: Hi!\n",
      "Assistant: Hi, how can I help you today?\n",
      "User: I'm going to ask you to use the TiKZ markup language to create some pictures. \n",
      "         In particular, I want you to write TiKZ code which creates a pulley system with a mechanical advantage of 4\n",
      "         Could you do that please?\n",
      "Assistant:  Sure, I'd be happy to help you with that! Here's an example of a pulley system with a mechanical advantage of 4 using TiKZ:\n",
      "```\n",
      "\\documentclass{article}\n",
      "\\usepackage{tikz}\n",
      "\\usetikzlibrary{positioning,arrows}\n",
      "\n",
      "\\begin{document}\n",
      "\n",
      "\\begin{tikzpicture}[block/.style={rectangle, draw, fill=blue!20,\n",
      "    text width=2.5cm, align=center, rounded corners},\n",
      "   pulley/.style={circle, draw, fill=red!50, minimum width=2cm,\n",
      "    text width=1.5cm, align=center, rounded corners}]\n",
      "\n",
      "% Pulley 1\n",
      "\\node (pulley1) at (0,0) [pulley] {};\n",
      "\n",
      "% Pulley 2\n",
      "\\node (pulley2) at (2,0) [pulley] {};\n",
      "\n",
      "% Pulley 3\n",
      "\\node (pulley3) at (4,0) [pulley] {};\n",
      "\n",
      "% Pulley 4\n",
      "\\node (pulley4) at (6,0) [pulley] {};\n",
      "\n",
      "% Block 1\n",
      "\\node (block1) at (0,2) [block] {};\n",
      "\n",
      "% Block 2\n",
      "\\node (block2) at (2,2) [block] {};\n",
      "\n",
      "% Block 3\n",
      "\\node (block3) at (4,2) [block] {};\n",
      "\n",
      "% Block 4\n",
      "\\node (block4) at (6,2) [block] {};\n",
      "\n",
      "% Connecting pulleys\n",
      "\\draw[-latex, thick] (pulley1) -- (pulley2);\n",
      "\\draw[-latex, thick] (pulley2) -- (pulley3);\n",
      "\\draw[-latex, thick] (pulley3) -- (pulley4);\n",
      "\n",
      "% Connecting blocks\n",
      "\\draw[-latex, thick] (block1) -- (pulley1);\n",
      "\\draw[-latex, thick] (block2) -- (pulley2);\n",
      "\\draw[-latex, thick] (block3) -- (pulley3);\n",
      "\\draw[-latex, thick] (block4) -- (pulley4);\n",
      "\n",
      "% Labeling pulleys and blocks\n",
      "\\node at (pulley1) {1};\n",
      "\\node at (pulley2) {2};\n",
      "\\node at (pulley3) {3};\n",
      "\\node at (pulley4) {4};\n",
      "\\node at (block1) {A};\n",
      "\\node at (block2) {B};\n",
      "\\node at (block3) {C};\n",
      "\\node at (block4) {D};\n",
      "\n",
      "\\end{tikzpicture}\n",
      "\n",
      "\\end{document}\n",
      "```\n",
      "This will produce a diagram of a pulley system with four pulleys and four blocks, with a mechanical advantage of 4. The pulleys are represented by red circles, and the blocks are represented by blue rectangles. The connections between the pulleys and blocks are shown using arrowed lines.\n",
      "\n",
      "I hope this helps! Let me know if you have any questions or if you need further assistance.\n"
     ]
    },
    {
     "name": "stdin",
     "output_type": "stream",
     "text": [
      "User:  END_THIS_NOW\n"
     ]
    },
    {
     "name": "stdout",
     "output_type": "stream",
     "text": [
      "User: Hi!\n",
      "Assistant: Hi, how can I help you today?\n",
      "User: I'm going to ask you to use the TiKZ markup language to create some pictures. \n",
      "         In particular, I want you to write TiKZ code which creates a pulley system with a mechanical advantage of 5\n",
      "         Could you do that please?\n",
      "Assistant:  Sure, I'd be happy to help you with that! Here's a possible TiKZ code for a pulley system with a mechanical advantage of 5:\n",
      "```\n",
      "\\documentclass{article}\n",
      "\\usepackage{tikz}\n",
      "\\usetikzlibrary{positioning, shapes.geometric}\n",
      "\n",
      "\\begin{document}\n",
      "\n",
      "\\begin{tikzpicture}[node distance=2cm, >=stealth, thick]\n",
      "\n",
      "% Pulley wheel 1\n",
      "\\node (p1) at (0,0) {A};\n",
      "\\node (p2) at (2,0) {B};\n",
      "\\draw (p1) -- (p2);\n",
      "\n",
      "% Pulley wheel 2\n",
      "\\node (p3) at (4,0) {C};\n",
      "\\node (p4) at (6,0) {D};\n",
      "\\draw (p3) -- (p4);\n",
      "\n",
      "% Pulley wheel 3\n",
      "\\node (p5) at (8,0) {E};\n",
      "\\node (p6) at (10,0) {F};\n",
      "\\draw (p5) -- (p6);\n",
      "\n",
      "% Rope\n",
      "\\draw (p1) to[out=30,in=150] (p3);\n",
      "\\draw (p3) to[out=30,in=150] (p5);\n",
      "\\draw (p5) to[out=30,in=150] (p1);\n",
      "\n",
      "% Load\n",
      "\\node (load) at (11,2) {Load};\n",
      "\\draw (p6) to[out=30,in=150] (load);\n",
      "\n",
      "% Forces\n",
      "\\draw[-latex, thick] (p1) -- node[left] {F1} (p2);\n",
      "\\draw[-latex, thick] (p3) -- node[left] {F2} (p4);\n",
      "\\draw[-latex, thick] (p5) -- node[left] {F3} (p6);\n",
      "\\draw[-latex, thick] (load) -- node[above] {F4} (p6);\n",
      "\n",
      "% Labels\n",
      "\\node at (1,1.5) {5};\n",
      "\\node at (5,1.5) {5};\n",
      "\\node at (9,1.5) {5};\n",
      "\\node at (11,3.5) {F1 + F2 + F3 + F4};\n",
      "\n",
      "\\end{tikzpicture}\n",
      "\n",
      "\\end{document}\n",
      "```\n",
      "This code creates a pulley system with three pulley wheels, each with a radius of 5cm. The pulleys are connected by ropes that pass over the pulleys at a 30-degree angle. The mechanical advantage of the system is 5, as each pulley wheel has a radius of 5cm and there are 5 ropes connecting the pulleys.\n",
      "\n",
      "I hope this helps! Let me know if you have any questions or need further assistance.\n"
     ]
    },
    {
     "name": "stdin",
     "output_type": "stream",
     "text": [
      "User:  But there are no wheels. Can you redraw it with wheels, please?\n"
     ]
    },
    {
     "name": "stdout",
     "output_type": "stream",
     "text": [
      "Assistant:  Sure, here's a revised version of the pulley system with wheels:\n",
      "```\n",
      "\\documentclass{article}\n",
      "\\usepackage{tikz}\n",
      "\\usetikzlibrary{positioning, shapes.geometric}\n",
      "\n",
      "\\begin{document}\n",
      "\n",
      "\\begin{tikzpicture}[node distance=2cm, >=stealth, thick]\n",
      "\n",
      "% Pulley wheel 1\n",
      "\\node (p1) at (0,0) {A};\n",
      "\\node (p2) at (2,0) {B};\n",
      "\\draw (p1) circle (1.5);\n",
      "\\draw (p2) circle (1.5);\n",
      "\\draw (p1) -- (p2);\n",
      "\n",
      "% Pulley wheel 2\n",
      "\\node (p3) at (4,0) {C};\n",
      "\\node (p4) at (6,0) {D};\n",
      "\\draw (p3) circle (1.5);\n",
      "\\draw (p4) circle (1.5);\n",
      "\\draw (p3) -- (p4);\n",
      "\n",
      "% Pulley wheel 3\n",
      "\\node (p5) at (8,0) {E};\n",
      "\\node (p6) at (10,0) {F};\n",
      "\\draw (p5) circle (1.5);\n",
      "\\draw (p6) circle (1.5);\n",
      "\\draw (p5) -- (p6);\n",
      "\n",
      "% Rope\n",
      "\\draw (p1) to[out=30,in=150] (p3);\n",
      "\\draw (p3) to[out=30,in=150] (p5);\n",
      "\\draw (p5) to[out=30,in=150] (p1);\n",
      "\n",
      "% Load\n",
      "\\node (load) at (11,2) {Load};\n",
      "\\draw (p6) to[out=30,in=150] (load);\n",
      "\n",
      "% Forces\n",
      "\\draw[-latex, thick] (p1) -- node[left] {F1} (p2);\n",
      "\\draw[-latex, thick] (p3) -- node[left] {F2} (p4);\n",
      "\\draw[-latex, thick] (p5) -- node[left] {F3} (p6);\n",
      "\\draw[-latex, thick] (load) -- node[above] {F4} (p6);\n",
      "\n",
      "% Labels\n",
      "\\node at (1,1.5) {5};\n",
      "\\node at (5,1.5) {5};\n",
      "\\node at (9,1.5) {5};\n",
      "\\node at (11,3.5) {F1 + F2 + F3 + F4};\n",
      "\n",
      "\\end{tikzpicture}\n",
      "\n",
      "\\end{document}\n",
      "```\n",
      "This code creates a pulley system with three pulley wheels, each with a radius of 1.5cm. The pulleys are connected by ropes that pass over the pulleys at a 30-degree angle. The mechanical advantage of the system is still 5, as each pulley wheel has a radius of 1.5cm and there are 5 ropes connecting the pulleys.\n",
      "\n",
      "I hope this revised version meets your requirements. Let me know if you have any further questions or need additional assistance.\n"
     ]
    },
    {
     "name": "stdin",
     "output_type": "stream",
     "text": [
      "User:  END_THIS_NOW\n"
     ]
    }
   ],
   "source": [
    "llama_results = run_generate(lc)"
   ]
  },
  {
   "cell_type": "code",
   "execution_count": 18,
   "id": "c799322e-4666-457b-b29d-19e8366e9f1e",
   "metadata": {},
   "outputs": [
    {
     "data": {
      "text/plain": [
       "('generate_70B_chat_24-08-2023—00:38:27—UTC.txt',\n",
       " {'experiment_name': 'generate',\n",
       "  'model_name': '70B_chat',\n",
       "  'run_date': '24-08-2023—00:38:27—UTC',\n",
       "  'dialog': [[{'role': 'user', 'content': 'Hi!'},\n",
       "    {'role': 'assistant', 'content': 'Hi, how can I help you today?'},\n",
       "    {'role': 'user',\n",
       "     'content': \"I'm going to ask you to use the TiKZ markup language to create some pictures. \\n         In particular, I want you to write TiKZ code which creates a pulley system with a mechanical advantage of 1\\n         Could you do that please?\"},\n",
       "    {'role': 'assistant',\n",
       "     'content': \" Sure, I'd be happy to help you with that! Here's an example of a pulley system with a mechanical advantage of 1 using TiKZ:\\n```\\n\\\\documentclass{article}\\n\\\\usepackage{tikz}\\n\\\\usetikzlibrary{positioning,shapes}\\n\\n\\\\begin{document}\\n\\n\\\\begin{tikzpicture}[node distance=2cm, >=stealth]\\n\\n% Pulley wheels\\n\\\\node (w1) at (0,0) {W};\\n\\\\node (w2) at (2,0) {W};\\n\\n% Pulley axles\\n\\\\draw (w1) -- (-0.5,0);\\n\\\\draw (w2) -- (2.5,0);\\n\\n% Rope\\n\\\\draw[red,very thick] (w1) -- (w2);\\n\\n% Load\\n\\\\node (load) at (1.5,1.5) {L};\\n\\n% Force applied to rope\\n\\\\draw[blue,very thick,latex-latex] (load) -- (w2);\\n\\n% Labels\\n\\\\node at (-0.5,0.5) {A};\\n\\\\node at (2.5,0.5) {B};\\n\\\\node at (1.5,2.5) {F};\\n\\n\\\\end{tikzpicture}\\n\\n\\\\end{document}\\n```\\nThis will produce a diagram of a pulley system with two pulley wheels, a rope that connects them, and a load attached to one of the pulleys. The force applied to the rope is also shown.\\n\\nThe mechanical advantage of this pulley system can be calculated as follows:\\n\\nMechanical Advantage = (Distance from fulcrum to effort) / (Distance from fulcrum to load)\\n\\nIn this case, the distance from the fulcrum (the axle of the pulley wheel) to the effort (the force applied to the rope) is 2cm, and the distance from the fulcrum to the load is also 2cm. Therefore, the mechanical advantage is 1, which means that for every 1cm of effort applied to the rope, the load will be lifted 1cm.\\n\\nI hope this helps! Let me know if you have any questions or if you need further assistance.\"},\n",
       "    {'role': 'user',\n",
       "     'content': 'But there are no wheels in that diagram. Can you redraw with wheels please?'},\n",
       "    {'role': 'assistant',\n",
       "     'content': \"Sure, here's a revised version of the pulley system with wheels:\\n```\\n\\\\documentclass{article}\\n\\\\usepackage{tikz}\\n\\\\usetikzlibrary{positioning,shapes}\\n\\n\\\\begin{document}\\n\\n\\\\begin{tikzpicture}[node distance=2cm, >=stealth]\\n\\n% Pulley wheels\\n\\\\node (w1) at (0,0) {W};\\n\\\\node (w2) at (2,0) {W};\\n\\n% Pulley axles\\n\\\\draw (w1) -- (-0.5,0);\\n\\\\draw (w2) -- (2.5,0);\\n\\n% Wheels\\n\\\\draw (w1) circle (0.5);\\n\\\\draw (w2) circle (0.5);\\n\\n% Rope\\n\\\\draw[red,very thick] (w1) -- (w2);\\n\\n% Load\\n\\\\node (load) at (1.5,1.5) {L};\\n\\n% Force applied to rope\\n\\\\draw[blue,very thick,latex-latex] (load) -- (w2);\\n\\n% Labels\\n\\\\node at (-0.5,0.5) {A};\\n\\\\node at (2.5,0.5) {B};\\n\\\\node at (1.5,2.5) {F};\\n\\n\\\\end{tikzpicture}\\n\\n\\\\end{document}\\n```\\nThis will produce a diagram of a pulley system with two pulley wheels, a rope that connects them, and a load attached to one of the pulleys. The force applied to the rope is also shown.\\n\\nThe mechanical advantage of this pulley system can still be calculated as follows:\\n\\nMechanical Advantage = (Distance from fulcrum to effort) / (Distance from fulcrum to load)\\n\\nIn this case, the distance from the fulcrum (the axle of the pulley wheel) to the effort (the force applied to the rope) is 2cm, and the distance from the fulcrum to the load is also 2cm. Therefore, the mechanical advantage is still 1, which means that for every 1cm of effort applied to the rope, the load will be lifted 1cm.\\n\\nI hope this revised diagram better represents the pulley system you had in mind! Let me know if you have any further questions or if there's anything else I can help you with.\"},\n",
       "    {'role': 'user', 'content': 'END_THIS_NOW'}],\n",
       "   [{'role': 'user', 'content': 'Hi!'},\n",
       "    {'role': 'assistant', 'content': 'Hi, how can I help you today?'},\n",
       "    {'role': 'user',\n",
       "     'content': \"I'm going to ask you to use the TiKZ markup language to create some pictures. \\n         In particular, I want you to write TiKZ code which creates a pulley system with a mechanical advantage of 2\\n         Could you do that please?\"},\n",
       "    {'role': 'assistant',\n",
       "     'content': ' Sure, I\\'d be happy to help you with that! Here\\'s an example of a pulley system with a mechanical advantage of 2 using TiKZ:\\n```\\n\\\\documentclass{article}\\n\\\\usepackage{tikz}\\n\\\\usetikzlibrary{positioning, arrows}\\n\\n\\\\begin{document}\\n\\n\\\\begin{tikzpicture}[block/.style={rectangle, draw, fill=blue!20,\\n    text width=2.5cm, align=center, rounded corners},\\n   pulley/.style={circle, draw, fill=red!50, inner sep=2pt}]\\n\\n% Blocks\\n\\\\node (block1) [block] {1};\\n\\\\node (block2) [block, below=of block1] {2};\\n\\n% Pulley\\n\\\\node (pulley1) [pulley, above=of block1] {};\\n\\\\node (pulley2) [pulley, below=of block2] {};\\n\\n% Ropes\\n\\\\draw[-latex, thick] (block1) -- (pulley1);\\n\\\\draw[-latex, thick] (pulley1) -- (pulley2);\\n\\\\draw[-latex, thick] (pulley2) -- (block2);\\n\\n% Labels\\n\\\\node at ($(pulley1)!0.5!(pulley2)$) {2};\\n\\\\node at ($(block1)!0.5!(block2)$) {1};\\n\\n\\\\end{tikzpicture}\\n\\n\\\\end{document}\\n```\\nThis will produce a diagram of a pulley system with two blocks and two pulleys, where the mechanical advantage is 2. The blocks are represented by rectangles, and the pulleys are represented by circles. The ropes connecting the blocks and pulleys are shown using arrows, and the label \"2\" is placed at the center of the pulley system to indicate the mechanical advantage.\\n\\nI hope this helps! Let me know if you have any questions or need further assistance.'},\n",
       "    {'role': 'user', 'content': 'END_THIS_NOW'}],\n",
       "   [{'role': 'user', 'content': 'Hi!'},\n",
       "    {'role': 'assistant', 'content': 'Hi, how can I help you today?'},\n",
       "    {'role': 'user',\n",
       "     'content': \"I'm going to ask you to use the TiKZ markup language to create some pictures. \\n         In particular, I want you to write TiKZ code which creates a pulley system with a mechanical advantage of 3\\n         Could you do that please?\"},\n",
       "    {'role': 'assistant',\n",
       "     'content': \" Sure! Here's an example of a pulley system with a mechanical advantage of 3 using TiKZ:\\n```\\n\\\\documentclass{article}\\n\\\\usepackage{tikz}\\n\\\\usetikzlibrary{positioning,shapes.geometric}\\n\\n\\\\begin{document}\\n\\n\\\\begin{tikzpicture}[node distance=2cm]\\n\\n% Pulley wheel 1\\n\\\\node (pulley1) at (0,0) {{\\\\Large Wheel 1}};\\n\\\\draw (pulley1.center) circle (0.5);\\n\\n% Pulley wheel 2\\n\\\\node (pulley2) at (3,0) {{\\\\Large Wheel 2}};\\n\\\\draw (pulley2.center) circle (0.5);\\n\\n% Rope\\n\\\\draw [thin, ->] (pulley1) -- (pulley2);\\n\\n% Force input\\n\\\\node (force) at (-1,1.5) {{\\\\Large Force Input}};\\n\\\\draw [thin, ->] (force) -- (-0.5,0.5);\\n\\n% Load\\n\\\\node (load) at (4,1.5) {{\\\\Large Load}};\\n\\\\draw [thin, ->] (load) -- (3.5,0.5);\\n\\n% Mechanical advantage label\\n\\\\node at (1.5,1) {{\\\\Large Mechanical Advantage = 3}};\\n\\n\\\\end{tikzpicture}\\n\\n\\\\end{document}\\n```\\nThis code creates a simple pulley system with two pulley wheels and a rope that passes over them. The force input and load are also shown, and a label indicates the mechanical advantage of the system, which is 3.\\n\\nI hope this helps! Let me know if you need further assistance.\"},\n",
       "    {'role': 'user', 'content': 'END_THIS_NOW'}],\n",
       "   [{'role': 'user', 'content': 'Hi!'},\n",
       "    {'role': 'assistant', 'content': 'Hi, how can I help you today?'},\n",
       "    {'role': 'user',\n",
       "     'content': \"I'm going to ask you to use the TiKZ markup language to create some pictures. \\n         In particular, I want you to write TiKZ code which creates a pulley system with a mechanical advantage of 4\\n         Could you do that please?\"},\n",
       "    {'role': 'assistant',\n",
       "     'content': \" Sure, I'd be happy to help you with that! Here's an example of a pulley system with a mechanical advantage of 4 using TiKZ:\\n```\\n\\\\documentclass{article}\\n\\\\usepackage{tikz}\\n\\\\usetikzlibrary{positioning,arrows}\\n\\n\\\\begin{document}\\n\\n\\\\begin{tikzpicture}[block/.style={rectangle, draw, fill=blue!20,\\n    text width=2.5cm, align=center, rounded corners},\\n   pulley/.style={circle, draw, fill=red!50, minimum width=2cm,\\n    text width=1.5cm, align=center, rounded corners}]\\n\\n% Pulley 1\\n\\\\node (pulley1) at (0,0) [pulley] {};\\n\\n% Pulley 2\\n\\\\node (pulley2) at (2,0) [pulley] {};\\n\\n% Pulley 3\\n\\\\node (pulley3) at (4,0) [pulley] {};\\n\\n% Pulley 4\\n\\\\node (pulley4) at (6,0) [pulley] {};\\n\\n% Block 1\\n\\\\node (block1) at (0,2) [block] {};\\n\\n% Block 2\\n\\\\node (block2) at (2,2) [block] {};\\n\\n% Block 3\\n\\\\node (block3) at (4,2) [block] {};\\n\\n% Block 4\\n\\\\node (block4) at (6,2) [block] {};\\n\\n% Connecting pulleys\\n\\\\draw[-latex, thick] (pulley1) -- (pulley2);\\n\\\\draw[-latex, thick] (pulley2) -- (pulley3);\\n\\\\draw[-latex, thick] (pulley3) -- (pulley4);\\n\\n% Connecting blocks\\n\\\\draw[-latex, thick] (block1) -- (pulley1);\\n\\\\draw[-latex, thick] (block2) -- (pulley2);\\n\\\\draw[-latex, thick] (block3) -- (pulley3);\\n\\\\draw[-latex, thick] (block4) -- (pulley4);\\n\\n% Labeling pulleys and blocks\\n\\\\node at (pulley1) {1};\\n\\\\node at (pulley2) {2};\\n\\\\node at (pulley3) {3};\\n\\\\node at (pulley4) {4};\\n\\\\node at (block1) {A};\\n\\\\node at (block2) {B};\\n\\\\node at (block3) {C};\\n\\\\node at (block4) {D};\\n\\n\\\\end{tikzpicture}\\n\\n\\\\end{document}\\n```\\nThis will produce a diagram of a pulley system with four pulleys and four blocks, with a mechanical advantage of 4. The pulleys are represented by red circles, and the blocks are represented by blue rectangles. The connections between the pulleys and blocks are shown using arrowed lines.\\n\\nI hope this helps! Let me know if you have any questions or if you need further assistance.\"},\n",
       "    {'role': 'user', 'content': 'END_THIS_NOW'}],\n",
       "   [{'role': 'user', 'content': 'Hi!'},\n",
       "    {'role': 'assistant', 'content': 'Hi, how can I help you today?'},\n",
       "    {'role': 'user',\n",
       "     'content': \"I'm going to ask you to use the TiKZ markup language to create some pictures. \\n         In particular, I want you to write TiKZ code which creates a pulley system with a mechanical advantage of 5\\n         Could you do that please?\"},\n",
       "    {'role': 'assistant',\n",
       "     'content': \" Sure, I'd be happy to help you with that! Here's a possible TiKZ code for a pulley system with a mechanical advantage of 5:\\n```\\n\\\\documentclass{article}\\n\\\\usepackage{tikz}\\n\\\\usetikzlibrary{positioning, shapes.geometric}\\n\\n\\\\begin{document}\\n\\n\\\\begin{tikzpicture}[node distance=2cm, >=stealth, thick]\\n\\n% Pulley wheel 1\\n\\\\node (p1) at (0,0) {A};\\n\\\\node (p2) at (2,0) {B};\\n\\\\draw (p1) -- (p2);\\n\\n% Pulley wheel 2\\n\\\\node (p3) at (4,0) {C};\\n\\\\node (p4) at (6,0) {D};\\n\\\\draw (p3) -- (p4);\\n\\n% Pulley wheel 3\\n\\\\node (p5) at (8,0) {E};\\n\\\\node (p6) at (10,0) {F};\\n\\\\draw (p5) -- (p6);\\n\\n% Rope\\n\\\\draw (p1) to[out=30,in=150] (p3);\\n\\\\draw (p3) to[out=30,in=150] (p5);\\n\\\\draw (p5) to[out=30,in=150] (p1);\\n\\n% Load\\n\\\\node (load) at (11,2) {Load};\\n\\\\draw (p6) to[out=30,in=150] (load);\\n\\n% Forces\\n\\\\draw[-latex, thick] (p1) -- node[left] {F1} (p2);\\n\\\\draw[-latex, thick] (p3) -- node[left] {F2} (p4);\\n\\\\draw[-latex, thick] (p5) -- node[left] {F3} (p6);\\n\\\\draw[-latex, thick] (load) -- node[above] {F4} (p6);\\n\\n% Labels\\n\\\\node at (1,1.5) {5};\\n\\\\node at (5,1.5) {5};\\n\\\\node at (9,1.5) {5};\\n\\\\node at (11,3.5) {F1 + F2 + F3 + F4};\\n\\n\\\\end{tikzpicture}\\n\\n\\\\end{document}\\n```\\nThis code creates a pulley system with three pulley wheels, each with a radius of 5cm. The pulleys are connected by ropes that pass over the pulleys at a 30-degree angle. The mechanical advantage of the system is 5, as each pulley wheel has a radius of 5cm and there are 5 ropes connecting the pulleys.\\n\\nI hope this helps! Let me know if you have any questions or need further assistance.\"},\n",
       "    {'role': 'user',\n",
       "     'content': 'But there are no wheels. Can you redraw it with wheels, please?'},\n",
       "    {'role': 'assistant',\n",
       "     'content': \" Sure, here's a revised version of the pulley system with wheels:\\n```\\n\\\\documentclass{article}\\n\\\\usepackage{tikz}\\n\\\\usetikzlibrary{positioning, shapes.geometric}\\n\\n\\\\begin{document}\\n\\n\\\\begin{tikzpicture}[node distance=2cm, >=stealth, thick]\\n\\n% Pulley wheel 1\\n\\\\node (p1) at (0,0) {A};\\n\\\\node (p2) at (2,0) {B};\\n\\\\draw (p1) circle (1.5);\\n\\\\draw (p2) circle (1.5);\\n\\\\draw (p1) -- (p2);\\n\\n% Pulley wheel 2\\n\\\\node (p3) at (4,0) {C};\\n\\\\node (p4) at (6,0) {D};\\n\\\\draw (p3) circle (1.5);\\n\\\\draw (p4) circle (1.5);\\n\\\\draw (p3) -- (p4);\\n\\n% Pulley wheel 3\\n\\\\node (p5) at (8,0) {E};\\n\\\\node (p6) at (10,0) {F};\\n\\\\draw (p5) circle (1.5);\\n\\\\draw (p6) circle (1.5);\\n\\\\draw (p5) -- (p6);\\n\\n% Rope\\n\\\\draw (p1) to[out=30,in=150] (p3);\\n\\\\draw (p3) to[out=30,in=150] (p5);\\n\\\\draw (p5) to[out=30,in=150] (p1);\\n\\n% Load\\n\\\\node (load) at (11,2) {Load};\\n\\\\draw (p6) to[out=30,in=150] (load);\\n\\n% Forces\\n\\\\draw[-latex, thick] (p1) -- node[left] {F1} (p2);\\n\\\\draw[-latex, thick] (p3) -- node[left] {F2} (p4);\\n\\\\draw[-latex, thick] (p5) -- node[left] {F3} (p6);\\n\\\\draw[-latex, thick] (load) -- node[above] {F4} (p6);\\n\\n% Labels\\n\\\\node at (1,1.5) {5};\\n\\\\node at (5,1.5) {5};\\n\\\\node at (9,1.5) {5};\\n\\\\node at (11,3.5) {F1 + F2 + F3 + F4};\\n\\n\\\\end{tikzpicture}\\n\\n\\\\end{document}\\n```\\nThis code creates a pulley system with three pulley wheels, each with a radius of 1.5cm. The pulleys are connected by ropes that pass over the pulleys at a 30-degree angle. The mechanical advantage of the system is still 5, as each pulley wheel has a radius of 1.5cm and there are 5 ropes connecting the pulleys.\\n\\nI hope this revised version meets your requirements. Let me know if you have any further questions or need additional assistance.\"},\n",
       "    {'role': 'user', 'content': 'END_THIS_NOW'}]]})"
      ]
     },
     "execution_count": 18,
     "metadata": {},
     "output_type": "execute_result"
    }
   ],
   "source": [
    "llama_name, llama_res = make_res(llama_results,EXP_NAME,LLAMA_NAME.split(\"/\")[-1]) \n",
    "llama_name, llama_res"
   ]
  },
  {
   "cell_type": "code",
   "execution_count": 19,
   "id": "1af58687-7414-42d0-b630-4b0cdb6d4d71",
   "metadata": {},
   "outputs": [],
   "source": [
    "with open(f\"./{llama_name}\",\"w\") as f:\n",
    "    json.dump(llama_res,f,indent=4)"
   ]
  }
 ],
 "metadata": {
  "kernelspec": {
   "display_name": "Python [conda env:llama]",
   "language": "python",
   "name": "conda-env-llama-py"
  },
  "language_info": {
   "codemirror_mode": {
    "name": "ipython",
    "version": 3
   },
   "file_extension": ".py",
   "mimetype": "text/x-python",
   "name": "python",
   "nbconvert_exporter": "python",
   "pygments_lexer": "ipython3",
   "version": "3.10.12"
  }
 },
 "nbformat": 4,
 "nbformat_minor": 5
}
