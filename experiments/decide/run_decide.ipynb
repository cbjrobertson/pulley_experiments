{
 "cells": [
  {
   "cell_type": "code",
   "execution_count": 1,
   "id": "d284f87c-01ad-4cbb-a4a0-ef7f355451dc",
   "metadata": {},
   "outputs": [],
   "source": [
    "import os\n",
    "os.environ[\"CUDA_VISIBLE_DEVICES\"]=\"0,1\""
   ]
  },
  {
   "cell_type": "code",
   "execution_count": 33,
   "id": "0eeb2a18-7220-42a0-9e9a-0beb4b379fd3",
   "metadata": {},
   "outputs": [],
   "source": [
    "import json\n",
    "import openai\n",
    "from psy_llm_chat import LlamaChat, GptChat\n",
    "from datetime import datetime   \n",
    "import pytz\n",
    "from typing import Dict, List, Tuple\n",
    "import glob\n",
    "import random\n",
    "from copy import deepcopy"
   ]
  },
  {
   "cell_type": "code",
   "execution_count": 5,
   "id": "b770836f-d41e-4422-86ae-27e5963897c3",
   "metadata": {},
   "outputs": [],
   "source": [
    "def get_now(\n",
    "    local_tz: str=\"America/New_York\",\n",
    "    dt_format: str=\"%d-%m-%Y—%H:%M:%S—%Z\"\n",
    ") -> str:\n",
    "    # datetime object containing current date and time\n",
    "    local = pytz.timezone(local_tz)\n",
    "    naive = datetime.now()\n",
    "    local_dt = local.localize(naive, is_dst=None)\n",
    "    utc_dt = local_dt.astimezone(pytz.utc)\n",
    "    return utc_dt.strftime(dt_format)\n",
    "\n",
    "def make_res(\n",
    "    result: List[Dict],\n",
    "    exp_name: str,\n",
    "    model_name: str\n",
    ") -> Tuple[str,Dict]:\n",
    "    now = get_now()\n",
    "    save_res = {\"experiment_name\": exp_name,\n",
    "                \"model_name\": model_name,\n",
    "                \"run_date\": now,\n",
    "                \"dialog\": result}\n",
    "    save_name = f\"{exp_name}_{model_name}_{now}.txt\"\n",
    "    return save_name, save_res"
   ]
  },
  {
   "cell_type": "code",
   "execution_count": 67,
   "id": "15f55af7-83d2-4955-ad0f-693d82072c80",
   "metadata": {},
   "outputs": [],
   "source": [
    "def get_question(diagram):\n",
    "    msg = deepcopy(messages)\n",
    "    q = deepcopy(question)\n",
    "    q[\"content\"] = q[\"content\"].format(diagram)\n",
    "    msg += [q]\n",
    "    return msg\n",
    "\n",
    "def run_exp(cht_cls, fns, diagrams):\n",
    "    results = {}\n",
    "    for fn, diagram in zip(fns, diagrams): \n",
    "        q = get_question(diagram)\n",
    "        uneek = fn.split(\"/\")[-1].split(\".\")[0]\n",
    "        results[uneek] = cht_cls(q)\n",
    "    return results\n"
   ]
  },
  {
   "cell_type": "code",
   "execution_count": 52,
   "id": "6828f6eb-51a4-48b6-adaf-fe2a4ca29cba",
   "metadata": {},
   "outputs": [],
   "source": [
    "messages =[\n",
    "    {\"role\": \"user\", \"content\": \"Hi!\"},\n",
    "    {\"role\": \"assistant\", \"content\": \"Hi, how can I help you today?\"},\n",
    "    {\"role\": \"user\", \"content\": \"\"\"I'm going to give you some TiKZ code that specifies a pulley system, then I'm going to ask you a question about\n",
    "        the pulley system, OK?\"\"\"},\n",
    "    {\"role\": \"assistant\", \"content\": \"Sounds great, please upload the TiKZ code and ask me about it.\"}\n",
    "    ]\n",
    "\n",
    "question = {\"role\": \"user\", \"content\": \"\"\"Ok, here is the TiKZ code depicting a pulley system:\\n\\n```Latex\\n\\n{}\\n```\\n\\n Now I'm going to ask a question about the pulley system depicted above.\n",
    "    In answering my question, you can assume that the system is idealized, with no rope stretch and no friction. My question is:\\n\n",
    "    What is the mechanical advantage of the system depicted in the TiKZ code above?\"\"\"}"
   ]
  },
  {
   "cell_type": "code",
   "execution_count": 53,
   "id": "8db873e3-6724-487c-8115-19161a8e2e6d",
   "metadata": {},
   "outputs": [],
   "source": [
    "fns = [fn for fn in glob.glob(\"../../materials/simple_pulleys/*.tex\")]\n",
    "diagrams = [open(fn,\"r\").read() for fn in fns]\n",
    "random.shuffle(diagrams)"
   ]
  },
  {
   "cell_type": "code",
   "execution_count": 54,
   "id": "5d71416d-f3a7-47d6-b66a-a40370b0d34f",
   "metadata": {},
   "outputs": [
    {
     "data": {
      "text/plain": [
       "['simp_MA1_B',\n",
       " 'simp_MA5_A',\n",
       " 'simp_MA2_A',\n",
       " 'simp_MA1_A',\n",
       " 'simp_MA5_B',\n",
       " 'simp_MA3_B',\n",
       " 'simp_MA2_B',\n",
       " 'simp_MA3_A',\n",
       " 'simp_MA4_B',\n",
       " 'simp_MA4_A']"
      ]
     },
     "execution_count": 54,
     "metadata": {},
     "output_type": "execute_result"
    }
   ],
   "source": [
    "[fn.split(\"/\")[-1].split(\".\")[0] for fn in fns]"
   ]
  },
  {
   "cell_type": "code",
   "execution_count": 69,
   "id": "1b13b848-8b45-4253-9ad0-e45f9111e450",
   "metadata": {},
   "outputs": [
    {
     "data": {
      "text/plain": [
       "['gpt-4-0314', 'gpt-4-0613', 'gpt-4']"
      ]
     },
     "execution_count": 69,
     "metadata": {},
     "output_type": "execute_result"
    }
   ],
   "source": [
    "#  print available GPT4 models\n",
    "#authenticate openai with your key\n",
    "openai.api_key = os.environ[\"OPENAI\"]\n",
    "\n",
    "[mod[\"id\"] for mod in openai.Model.list()[\"data\"] if mod[\"id\"].startswith(\"gpt-4\")]"
   ]
  },
  {
   "cell_type": "code",
   "execution_count": 73,
   "id": "6458c38c-fe0e-4997-808e-1a948321d71c",
   "metadata": {},
   "outputs": [],
   "source": [
    "GPT_NAME = 'gpt-4-0314'\n",
    "EXP_NAME = \"decide\""
   ]
  },
  {
   "cell_type": "code",
   "execution_count": 76,
   "id": "333241c5-d684-4cac-9a3b-180007caf9ae",
   "metadata": {},
   "outputs": [],
   "source": [
    "gptc = GptChat(model=GPT_NAME)"
   ]
  },
  {
   "cell_type": "code",
   "execution_count": null,
   "id": "b53afb90-0b6d-4452-bab6-3d840e1efd40",
   "metadata": {},
   "outputs": [],
   "source": [
    "gpt_results = run_exp(gptc, fns, diagrams)"
   ]
  },
  {
   "cell_type": "code",
   "execution_count": null,
   "id": "6840aa1f-494f-45f6-9452-a09b364b578d",
   "metadata": {},
   "outputs": [],
   "source": [
    "gpt_name, gpt_res = make_res(gpt_results, EXP_NAME, GPT_NAME) \n",
    "gpt_name, gpt_res"
   ]
  },
  {
   "cell_type": "code",
   "execution_count": 63,
   "id": "7c1da95f-1a0a-42db-b24a-e6d8999d34b0",
   "metadata": {},
   "outputs": [],
   "source": [
    "with open(f\"./{gpt_name}\",\"w\") as f:\n",
    "    json.dump(gpt_res,f,indent=4)"
   ]
  },
  {
   "cell_type": "code",
   "execution_count": 64,
   "id": "213a6566-757c-4196-840f-78db2b83ff2e",
   "metadata": {},
   "outputs": [],
   "source": [
    "#  #local models \n",
    "# model_name =\"./llama_models/models_hf/7B_chat\"\n",
    "# model_name =\"./llama_models/models_hf/13B_chat\"\n",
    "LLAMA_NAME =\"../../llama_models/models_hf/70B_chat\"\n",
    "\n",
    "# # huggingface\n",
    "# models can also be loaded from HF hub (once access has been granted), e.g.:\n",
    "# model_name = \"meta-llama/Llama-2-7b-chat-hf\"\n",
    "# model_name = \"meta-llama/Llama-2-13b-chat-hf\"\n",
    "# model_name = \"meta-llama/Llama-2-70b-chat-hf\""
   ]
  },
  {
   "cell_type": "code",
   "execution_count": 65,
   "id": "fc25ffe0-d6d7-451d-b3a1-cfdb72fb637d",
   "metadata": {},
   "outputs": [
    {
     "data": {
      "text/plain": [
       "[{'role': 'user', 'content': 'Hi!'},\n",
       " {'role': 'assistant', 'content': 'Hi, how can I help you today?'},\n",
       " {'role': 'user',\n",
       "  'content': \"I'm going to give you some TiKZ code that specifies a pulley system, then I'm going to ask you a question about\\n        the pulley system, OK?\"},\n",
       " {'role': 'assistant',\n",
       "  'content': 'Sounds great, please upload the TiKZ code and ask me about it.'}]"
      ]
     },
     "execution_count": 65,
     "metadata": {},
     "output_type": "execute_result"
    }
   ],
   "source": [
    "messages"
   ]
  },
  {
   "cell_type": "code",
   "execution_count": 66,
   "id": "007a6090-160b-43b6-878d-f7fd0ce57dfe",
   "metadata": {},
   "outputs": [
    {
     "data": {
      "application/vnd.jupyter.widget-view+json": {
       "model_id": "e1bf7bc528514f719a9518c9eddec347",
       "version_major": 2,
       "version_minor": 0
      },
      "text/plain": [
       "Loading checkpoint shards:   0%|          | 0/15 [00:00<?, ?it/s]"
      ]
     },
     "metadata": {},
     "output_type": "display_data"
    }
   ],
   "source": [
    "# load the model defined by <<model_name>>, must set output_hidden_states and ...attentions to True to access these later.\n",
    "lc = LlamaChat(LLAMA_NAME, True, max_new_tokens=1024, output_hidden_states=True, output_attentions=True)"
   ]
  },
  {
   "cell_type": "code",
   "execution_count": null,
   "id": "b2d8afab-3ff1-4186-b493-7b0da7c535de",
   "metadata": {},
   "outputs": [],
   "source": [
    "llama_results = run_exp(lc, fns, diagrams)"
   ]
  },
  {
   "cell_type": "code",
   "execution_count": 112,
   "id": "c799322e-4666-457b-b29d-19e8366e9f1e",
   "metadata": {},
   "outputs": [
    {
     "name": "stdout",
     "output_type": "stream",
     "text": [
      "[{'content': 'Hi!', 'role': 'user'},\n",
      " {'content': 'Hi, how can I help you today?', 'role': 'assistant'},\n",
      " {'content': \"I'm going to give you some TiKZ code that specifies a pulley \"\n",
      "             \"system, then I'm going to ask you a question about\\n\"\n",
      "             '        the pulley system, OK?',\n",
      "  'role': 'user'},\n",
      " {'content': 'Sounds great, please upload the TiKZ code and ask me about it.',\n",
      "  'role': 'assistant'},\n",
      " {'content': 'Ok, here is the TiKZ code depicting a pulley system:\\n'\n",
      "             '\\n'\n",
      "             '```Latex\\n'\n",
      "             '\\n'\n",
      "             '\\\\documentclass{article}\\n'\n",
      "             '\\\\usepackage{caption}\\n'\n",
      "             '\\\\usepackage{subcaption}\\n'\n",
      "             '\\\\usepackage{graphicx}\\n'\n",
      "             '\\\\usepackage{tikz}\\n'\n",
      "             '\\\\usepackage{tikzsymbols}\\n'\n",
      "             '\\\\usetikzlibrary{calc}\\n'\n",
      "             '\\\\usepackage{float}\\n'\n",
      "             '\\\\usepackage{pdflscape}\\n'\n",
      "             '\\\\usepackage{geometry}\\n'\n",
      "             '\\\\geometry{a4paper, landscape, margin=1cm}\\n'\n",
      "             '\\\\pagestyle{empty}\\n'\n",
      "             '\\n'\n",
      "             '\\\\def\\\\centerarc[#1](#2)(#3:#4:#5){\\\\draw[#1] '\n",
      "             '($(#2)+({#5*cos(#3)},{#5*sin(#3)})$) arc (#3:#4:#5);}\\n'\n",
      "             '\\n'\n",
      "             '\\\\begin{document}\\n'\n",
      "             '\\t\\\\centering\\n'\n",
      "             '\\t\\\\begin{figure}[H]\\n'\n",
      "             '\\t\\t\\t\\\\begin{tikzpicture}\\n'\n",
      "             '\\t\\t\\t\\t%%%%% START %%%%%\\n'\n",
      "             '\\t\\t\\t\\t\\t\\t\\t\\t\\n'\n",
      "             '\\t\\t\\t\\t\\\\draw[fill=black] (-2, 11.75) rectangle (6, 11.88);\\n'\n",
      "             '\\t\\t\\t\\t\\n'\n",
      "             '\\t\\t\\t\\t\\\\draw (1, 10) circle (0.5);\\n'\n",
      "             '\\t\\t\\t\\t\\\\draw[fill=black] (1, 10) circle (0.1);\\n'\n",
      "             '\\t\\t\\t\\t\\\\draw[thick] (1, 10) -- (1, 11.75);\\n'\n",
      "             '\\t\\t\\t\\t\\n'\n",
      "             '\\t\\t\\t\\t\\\\draw (4.3, 10) circle (0.5);\\n'\n",
      "             '\\t\\t\\t\\t\\\\draw[fill=black] (4.3, 10) circle (0.1);\\n'\n",
      "             '\\t\\t\\t\\t\\\\draw[thick] (4.3, 10) -- (4.3, 11.75);\\n'\n",
      "             '\\t\\t\\t\\t\\n'\n",
      "             '\\t\\t\\t\\t\\\\draw (2.7, 4) circle (0.5);\\n'\n",
      "             '\\t\\t\\t\\t\\\\draw[fill=black] (2.7, 4) circle (0.1);\\n'\n",
      "             '\\t\\t\\t\\t\\n'\n",
      "             '\\t\\t\\t\\t\\n'\n",
      "             '\\t\\t\\t\\t\\\\draw[thick]  (2.7, -0.86) -- (3.2, -0.36) -- (3.7, '\n",
      "             '-0.86);\\n'\n",
      "             '\\t\\t\\t\\t\\\\draw[thick]  (3.7, -0.86) -- (4.2, -0.36) -- (4.7, '\n",
      "             '-0.86);\\n'\n",
      "             '\\t\\t\\t\\t\\\\draw[fill=black!50] (2.7, -0.86) rectangle (4.8, '\n",
      "             '-2.96);\\n'\n",
      "             '\\t\\t\\t\\t\\n'\n",
      "             '\\t\\t\\t\\t\\\\draw[thick] (0.4, -1.9) -- (0.4, 10);\\n'\n",
      "             '\\t\\t\\t\\t\\\\centerarc[thick](1, 10)(0:180:0.6);\\n'\n",
      "             '\\t\\t\\t\\t\\\\draw[thick] (1.6, 10) -- (2.1, 4);\\n'\n",
      "             '\\t\\t\\t\\t\\\\centerarc[thick](2.7, 4)(180:370:0.6);\\n'\n",
      "             '\\t\\t\\t\\t\\\\draw[thick] (3.3, 3.99) -- (3.7, 10);\\n'\n",
      "             '\\t\\t\\t\\t\\\\centerarc[thick](4.3, 10)(0:180:0.6);\\n'\n",
      "             '\\t\\t\\t\\t\\\\draw[thick] (4.2, -0.36) -- (4.9, 10);\\n'\n",
      "             '\\t\\t\\t\\t\\\\draw[thick] (3.2, -0.36) -- (2.7, 4);\\n'\n",
      "             '\\t\\t\\t\\t\\n'\n",
      "             '\\t\\t\\t\\t\\\\node at (-0.1, -2) {\\\\Strichmaxerl[10][35][45]};\\n'\n",
      "             '\\t\\t\\t\\t\\n'\n",
      "             '\\t\\t\\t\\t\\\\draw[fill=black] (-2, -3) rectangle (6, -3.15);\\n'\n",
      "             '\\t\\t\\t\\t%%%%% END %%%%%\\n'\n",
      "             '\\t\\t\\t\\\\end{tikzpicture}\\n'\n",
      "             '\\t\\\\end{figure}\\t\\n'\n",
      "             '\\\\end{document}\\n'\n",
      "             '```\\n'\n",
      "             '\\n'\n",
      "             \" Now I'm going to ask a question about the pulley system \"\n",
      "             'depicted above.\\n'\n",
      "             '    In answering my question, you can assume that the system is '\n",
      "             'idealized, with no rope stretch and no friction. My question '\n",
      "             'is:\\n'\n",
      "             '\\n'\n",
      "             '    What is the mechanical advantage of the system depicted in '\n",
      "             'the TiKZ code above?',\n",
      "  'role': 'user'},\n",
      " {'content': 'The mechanical advantage of a pulley system is defined as the '\n",
      "             'ratio of the distance from the fulcrum (or pivot point) to the '\n",
      "             'point where the effort is applied, to the distance from the '\n",
      "             'fulcrum to the point where the load is applied.\\n'\n",
      "             '\\n'\n",
      "             'In the pulley system depicted in the TiKZ code, we can identify '\n",
      "             'the fulcrum as the point where the rope attaches to the pulley '\n",
      "             'wheel. The effort is applied at the point where the rope '\n",
      "             'attaches to the pulley wheel, and the load is applied at the '\n",
      "             'point where the rope attaches to the object being lifted.\\n'\n",
      "             '\\n'\n",
      "             'To determine the mechanical advantage of the system, we need to '\n",
      "             'calculate the distance from the fulcrum to the point where the '\n",
      "             'effort is applied, and the distance from the fulcrum to the '\n",
      "             'point where the load is applied.\\n'\n",
      "             '\\n'\n",
      "             'From the diagram, we can see that the distance from the fulcrum '\n",
      "             'to the point where the effort is applied is 0.6 meters (since '\n",
      "             'the radius of the pulley wheel is 0.6 meters). The distance from '\n",
      "             'the fulcrum to the point where the load is applied is 2.7 meters '\n",
      "             '(since the distance from the pulley wheel to the point where the '\n",
      "             'rope attaches to the object being lifted is 2.7 meters).\\n'\n",
      "             '\\n'\n",
      "             'Therefore, the mechanical advantage of the pulley system '\n",
      "             'depicted in the TiKZ code is:\\n'\n",
      "             '\\n'\n",
      "             'Mechanical Advantage = Distance from fulcrum to effort / '\n",
      "             'Distance from fulcrum to load\\n'\n",
      "             '= 0.6 meters / 2.7 meters\\n'\n",
      "             '= 0.222\\n'\n",
      "             '\\n'\n",
      "             'So, the mechanical advantage of the pulley system is 0.222, or '\n",
      "             'approximately 1/4.5. This means that for every 4.5 meters of '\n",
      "             'rope pulled down, the load will be lifted by 1 meter.',\n",
      "  'role': 'assistant'},\n",
      " {'content': \"Isn't that the wrong way around. If the weight moves 1m for \"\n",
      "             \"every 4.5m of rope movement, it's the MA 4.5/1=4.5?\",\n",
      "  'role': 'user'},\n",
      " {'content': \"  You're absolutely right! My apologies for the mistake. The \"\n",
      "             'mechanical advantage of the pulley system should be calculated '\n",
      "             'as the ratio of the distance from the fulcrum to the load, to '\n",
      "             'the distance from the fulcrum to the effort. In this case, the '\n",
      "             'distance from the fulcrum to the load is 2.7 meters, and the '\n",
      "             'distance from the fulcrum to the effort is 0.6 meters, so the '\n",
      "             'mechanical advantage is:\\n'\n",
      "             '\\n'\n",
      "             'Mechanical Advantage = Distance from fulcrum to load / Distance '\n",
      "             'from fulcrum to effort\\n'\n",
      "             '= 2.7 meters / 0.6 meters\\n'\n",
      "             '= 4.5\\n'\n",
      "             '\\n'\n",
      "             'Therefore, the mechanical advantage of the pulley system is 4.5, '\n",
      "             'which means that for every 1 meter of rope pulled down, the load '\n",
      "             'will be lifted by 4.5 meters. Thank you for catching my mistake!',\n",
      "  'role': 'assistant'},\n",
      " {'content': 'END_THIS_NOW', 'role': 'user'}]\n"
     ]
    }
   ],
   "source": [
    "llama_name, llama_res = make_res(llama_results,EXP_NAME,LLAMA_NAME.split(\"/\")[-1]) \n",
    "llama_name \n",
    "\n",
    "pprint(llama_results[\"simp_MA5_A\"])"
   ]
  },
  {
   "cell_type": "code",
   "execution_count": 85,
   "id": "1af58687-7414-42d0-b630-4b0cdb6d4d71",
   "metadata": {},
   "outputs": [],
   "source": [
    "with open(f\"./{llama_name}\",\"w\") as f:\n",
    "    json.dump(llama_res,f,indent=4)"
   ]
  },
  {
   "cell_type": "code",
   "execution_count": 107,
   "id": "d5dd2918-a4e0-443a-8b64-eed7e7c75799",
   "metadata": {},
   "outputs": [],
   "source": [
    "# !pip install openpyxl\n",
    "import pandas as pd\n",
    "df = pd.concat([pd.DataFrame([{\"uneek\": key, \n",
    "                          \"generated_result\": val[-2][\"content\"],\n",
    "                          \"model\": llama_res[\"model_name\"]} for key,val in llama_res[\"dialog\"].items()]),\n",
    "           pd.DataFrame([{\"uneek\": key,\n",
    "                          \"generated_result\": \n",
    "                          val[-2][\"content\"], \n",
    "                          \"model\": gpt_res[\"model_name\"]} for key,val in gpt_res[\"dialog\"].items()])\n",
    "          ]\n",
    "         )\n",
    "df.to_excel(\"./decide_result.xlsx\",index=False)\n",
    "df.to_csv(\"./decide_result.csv\",index=False)"
   ]
  }
 ],
 "metadata": {
  "kernelspec": {
   "display_name": "Python [conda env:llama]",
   "language": "python",
   "name": "conda-env-llama-py"
  },
  "language_info": {
   "codemirror_mode": {
    "name": "ipython",
    "version": 3
   },
   "file_extension": ".py",
   "mimetype": "text/x-python",
   "name": "python",
   "nbconvert_exporter": "python",
   "pygments_lexer": "ipython3",
   "version": "3.10.12"
  }
 },
 "nbformat": 4,
 "nbformat_minor": 5
}
