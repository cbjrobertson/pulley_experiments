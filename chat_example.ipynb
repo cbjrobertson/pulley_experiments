{
 "cells": [
  {
   "cell_type": "code",
   "execution_count": 1,
   "id": "9bba4e41-b1e6-499b-8276-ed0dd02ec2d8",
   "metadata": {},
   "outputs": [],
   "source": [
    "import os\n",
    "os.environ[\"CUDA_VISIBLE_DEVICES\"]=\"0,1\""
   ]
  },
  {
   "cell_type": "code",
   "execution_count": 6,
   "id": "4f96112e-0c1b-42f4-8dcd-751797fe7b3d",
   "metadata": {},
   "outputs": [],
   "source": [
    "# ENV SET UP\n",
    "# python > 3.9 recommended\n",
    "# git clone git@github.com:facebookresearch/llama-recipes.git\n",
    "# cd llama-recipes\n",
    "# pip install -r requirements.txt\n",
    "# pip install psy_llm_chat\n",
    "# pip install openai"
   ]
  },
  {
   "cell_type": "code",
   "execution_count": 7,
   "id": "9e741bfc-16c8-47d3-bc8e-045b919ee940",
   "metadata": {},
   "outputs": [],
   "source": [
    "# MODEL hf creation\n",
    "# The first three model_names are local huggingface versions of the llama models, i.e. after downloading the meta weights, they were created following \n",
    "# the llama-recipes quickstart.ipynb directions, from: https://github.com/facebookresearch/llama-recipes/blob/main/quickstart.ipynb\n",
    "\n",
    "# i.e.:\n",
    "# %%bash\n",
    "# pip install transformers datasets accelerate sentencepiece protobuf==3.20 py7zr scipy peft bitsandbytes fire torch_tb_profiler ipywidgets\n",
    "# TRANSFORM=`python -c \"import transformers;print('/'.join(transformers.__file__.split('/')[:-1])+'/models/llama/convert_llama_weights_to_hf.py')\"`\n",
    "# print(TRANSFORM)\n",
    "# python ${TRANSFORM} --input_dir ./models/llama-2-70b-chat --model_size 70B --output_dir ./models_hf/70B_chat\n",
    "\n",
    "# NB, for the above code to work, meta weights need to be stored in a `models` dir using the following structure, where\n",
    "# each model is stored in a sub-directory in <<input_dir>> which matches the --model_size param, e.g. 7B, 13B, 70B:\n",
    "# ├── models\n",
    "# │   ├── llama-2-13b\n",
    "# │   │   └── 13B\n",
    "# │   ├── llama-2-13b-chat\n",
    "# │   │   └── 13B\n",
    "# │   ├── llama-2-70b\n",
    "# │   │   └── 70B\n",
    "# │   ├── llama-2-70b-chat\n",
    "# │   │   └── 70B\n",
    "# │   ├── llama-2-7b\n",
    "# │   │   └── 7B\n",
    "# │   └── llama-2-7b-chat\n",
    "# │       └── 7B"
   ]
  },
  {
   "cell_type": "code",
   "execution_count": 13,
   "id": "f7006794-fb0b-4cb5-a39a-f1ac34f7dc17",
   "metadata": {},
   "outputs": [],
   "source": [
    "# import from psy_llm_chat class to chat with GPT and Llama\n",
    "import psy_llm_chat as plc\n",
    "import openai"
   ]
  },
  {
   "cell_type": "code",
   "execution_count": 4,
   "id": "96c9d53f-4607-4dc8-abcd-973e3101b301",
   "metadata": {},
   "outputs": [],
   "source": [
    "# Define a simple dialog\n",
    "test_dialog = [\n",
    "    # {'role': 'system', 'content': 'Always answer with Haiku'},\n",
    "    {'role': 'user', 'content': \"Can you use TiKZ code to draw a horse?\"}\n",
    "]"
   ]
  },
  {
   "cell_type": "code",
   "execution_count": 5,
   "id": "dc97ae85-2e0e-4cbf-a735-6e00cf887196",
   "metadata": {},
   "outputs": [
    {
     "data": {
      "application/vnd.jupyter.widget-view+json": {
       "model_id": "d2f6f69ca54946168b6dea435acdcc61",
       "version_major": 2,
       "version_minor": 0
      },
      "text/plain": [
       "Loading checkpoint shards:   0%|          | 0/2 [00:00<?, ?it/s]"
      ]
     },
     "metadata": {},
     "output_type": "display_data"
    }
   ],
   "source": [
    "#  #local models \n",
    "model_name =\"./llama_models/models_hf/7B_chat\"\n",
    "# model_name =\"./llama_models/models_hf/13B_chat\"\n",
    "# model_name =\"./llama_models/models_hf/70B_chat\"\n",
    "\n",
    "# # huggingface\n",
    "# models can also be loaded from HF hub (once access has been granted), e.g.:\n",
    "# model_name = \"meta-llama/Llama-2-7b-chat-hf\"\n",
    "# model_name = \"meta-llama/Llama-2-13b-chat-hf\"\n",
    "# model_name = \"meta-llama/Llama-2-70b-chat-hf\"\n",
    "\n",
    "# load the model defined by <<model_name>>, must set output_hidden_states and ...attentions to True to access these later.\n",
    "lc = plc.LlamaChat(model_name, output_hidden_states=True, output_attentions=True)"
   ]
  },
  {
   "cell_type": "code",
   "execution_count": 6,
   "id": "fb5516e4-3104-4258-a95f-4b59ed7a28ed",
   "metadata": {},
   "outputs": [
    {
     "name": "stdout",
     "output_type": "stream",
     "text": [
      "User: Can you use TiKZ code to draw a horse?\n"
     ]
    },
    {
     "name": "stderr",
     "output_type": "stream",
     "text": [
      "/home/coler/anaconda3/envs/llama/lib/python3.10/site-packages/transformers/generation/utils.py:1270: UserWarning: You have modified the pretrained model configuration to control generation. This is a deprecated strategy to control generation and will be removed soon, in a future version. Please use a generation configuration file (see https://huggingface.co/docs/transformers/main_classes/text_generation )\n",
      "  warnings.warn(\n"
     ]
    },
    {
     "name": "stdout",
     "output_type": "stream",
     "text": [
      "Assistant: Yes, you can use TiKZ code to draw a horse. Here is an example of a simple horse drawing using TiKZ:\n",
      "\n",
      "\\documentclass{article}\n",
      "\\usepackage{tikz}\n",
      "\\usetikzlibrary{shapes,arrows,positioning}\n",
      "\\begin{document}\n",
      "\\beginIGROUP\\draw (0,0) rectangle (2,2);% body\n",
      "\\draw (1,1) circle (0.5ex);% head\n",
      "\\draw (1,1.5) -- (2,0.5);% neck\n",
      "\\draw (0.5,1) -- (1.5,0);% tail\n",
      "\\endtikzpicture\n",
      "\\end{document}\n",
      "This will produce a simple horse drawing with a body, head, neck, and tail. You can customize the appearance of the horse by adjusting the dimensions of the shape, adding more details such as eyes, mane, and hooves, or using different shapes and styles.\n",
      "\n",
      "You can also use the `pic` command to include a predefined horse shape in your drawing:\n",
      "\\documentclass{article}\n",
      "\\usepackage{tikz}\n",
      "\\usetikzlibrary{shapes.animals}\n",
      "\\\n"
     ]
    },
    {
     "name": "stdin",
     "output_type": "stream",
     "text": [
      "User:  END_THIS_NOW\n"
     ]
    }
   ],
   "source": [
    "# run the chat by calling the class\n",
    "# to end the chat, input `END_THIS_NOW`; this terminates the chat and returns the dialog \n",
    "result = lc(test_dialog)"
   ]
  },
  {
   "cell_type": "code",
   "execution_count": 7,
   "id": "09de6c99-0eb9-4338-a937-901cddc7cfb3",
   "metadata": {},
   "outputs": [
    {
     "data": {
      "text/plain": [
       "[{'role': 'user', 'content': 'Can you use TiKZ code to draw a horse?'},\n",
       " {'role': 'assistant',\n",
       "  'content': 'Yes, you can use TiKZ code to draw a horse. Here is an example of a simple horse drawing using TiKZ:\\n\\n\\\\documentclass{article}\\n\\\\usepackage{tikz}\\n\\\\usetikzlibrary{shapes,arrows,positioning}\\n\\\\begin{document}\\n\\\\beginIGROUP\\\\draw (0,0) rectangle (2,2);% body\\n\\\\draw (1,1) circle (0.5ex);% head\\n\\\\draw (1,1.5) -- (2,0.5);% neck\\n\\\\draw (0.5,1) -- (1.5,0);% tail\\n\\\\endtikzpicture\\n\\\\end{document}\\nThis will produce a simple horse drawing with a body, head, neck, and tail. You can customize the appearance of the horse by adjusting the dimensions of the shape, adding more details such as eyes, mane, and hooves, or using different shapes and styles.\\n\\nYou can also use the `pic` command to include a predefined horse shape in your drawing:\\n\\\\documentclass{article}\\n\\\\usepackage{tikz}\\n\\\\usetikzlibrary{shapes.animals}\\n\\\\'},\n",
       " {'role': 'user', 'content': 'END_THIS_NOW'}]"
      ]
     },
     "execution_count": 7,
     "metadata": {},
     "output_type": "execute_result"
    }
   ],
   "source": [
    "# dialog is a list of dicts\n",
    "result"
   ]
  },
  {
   "cell_type": "code",
   "execution_count": 8,
   "id": "73cbbacb-6b9b-4ec1-a156-c11568d1ef8e",
   "metadata": {},
   "outputs": [
    {
     "name": "stdout",
     "output_type": "stream",
     "text": [
      "Returning encoding for:\n",
      "\n",
      "--------------------\n",
      "\n",
      "[INST] Can you use TiKZ code to draw a horse? [/INST]\n",
      " Yes, you can use TiKZ code to draw a horse. Here is an example of a simple horse drawing using TiKZ:\n",
      "\n",
      "\\documentclass{article}\n",
      "\\usepackage{tikz}\n",
      "\\usetikzlibrary{shapes,arrows,positioning}\n",
      "\\begin{document}\n",
      "\\beginIGROUP\\draw (0,0) rectangle (2,2);% body\n",
      "\\draw (1,1) circle (0.5ex);% head\n",
      "\\draw (1,1.5) -- (2,0.5);% neck\n",
      "\\draw (0.5,1) -- (1.5,0);% tail\n",
      "\\endtikzpicture\n",
      "\\end{document}\n",
      "This will produce a simple horse drawing with a body, head, neck, and tail. You can customize the appearance of the horse by adjusting the dimensions of the shape, adding more details such as eyes, mane, and hooves, or using different shapes and styles.\n",
      "\n",
      "You can also use the `pic` command to include a predefined horse shape in your drawing:\n",
      "\\documentclass{article}\n",
      "\\usepackage{tikz}\n",
      "\\usetikzlibrary{shapes.animals}\n",
      "\\ \n",
      "\n",
      "--------------------\n"
     ]
    }
   ],
   "source": [
    "# allign spacy token boundaries with  embeddings with sentence piece embeddings and expose as the spacy.Token._.llama_vec Token property\n",
    "import spacy\n",
    "nlp = spacy.load(\"en_core_web_sm\")\n",
    "\n",
    "# pass spacy nlp object, result[:-1] (to avoid encoding END_THIS_NOW) and layer number (i.e. the layer from which to extract hidden state\n",
    "doc = lc.get_spacy_doc(nlp,result[:-1],layer=0)"
   ]
  },
  {
   "cell_type": "code",
   "execution_count": 9,
   "id": "3ca9955d-e3f9-44ec-a560-d846f6795155",
   "metadata": {},
   "outputs": [
    {
     "name": "stdout",
     "output_type": "stream",
     "text": [
      "Average of sentence-piece embeddings for: `draw`\n",
      "at doc index: `9`\n",
      "is of type: `<class 'torch.Tensor'>`\n",
      "of shape: `torch.Size([4096])`\n"
     ]
    }
   ],
   "source": [
    "# demonstration of how to access Token._.llama_vec embedding\n",
    "word_index = 9\n",
    "print(f\"\"\"Average of sentence-piece embeddings for: `{doc[word_index]}`\n",
    "at doc index: `{word_index}`\n",
    "is of type: `{type(doc[5]._.llama_vec)}`\n",
    "of shape: `{doc[5]._.llama_vec.shape}`\"\"\")"
   ]
  },
  {
   "cell_type": "code",
   "execution_count": 51,
   "id": "8ad63911-137e-407f-b49a-763f53afb872",
   "metadata": {},
   "outputs": [
    {
     "data": {
      "text/plain": [
       "tensor([[ 0.0018, -0.0038,  0.0010,  ..., -0.0090,  0.0027, -0.0038],\n",
       "        [ 0.0277, -0.0060,  0.0035,  ...,  0.0005, -0.0082,  0.0064],\n",
       "        [-0.0299, -0.0148, -0.0530,  ...,  0.0047, -0.0173, -0.0120],\n",
       "        ...,\n",
       "        [ 0.0034, -0.0097,  0.0188,  ..., -0.0127, -0.0099, -0.0254],\n",
       "        [-0.0344, -0.0071, -0.0178,  ..., -0.0126, -0.0008, -0.0535],\n",
       "        [ 0.0003,  0.0029, -0.0126,  ...,  0.0014, -0.0019, -0.0064]],\n",
       "       dtype=torch.float16, grad_fn=<SqueezeBackward0>)"
      ]
     },
     "execution_count": 51,
     "metadata": {},
     "output_type": "execute_result"
    }
   ],
   "source": [
    "# extract hidden states from result\n",
    "hidden = lc.extract_embeddings(result[:-1],kind=\"hidden\")\n",
    "hidden[0].squeeze()"
   ]
  },
  {
   "cell_type": "code",
   "execution_count": 47,
   "id": "d465e73f-46a3-481c-816e-f419cbb22afe",
   "metadata": {},
   "outputs": [
    {
     "data": {
      "text/plain": [
       "tensor([[1.0000e+00, 0.0000e+00, 0.0000e+00,  ..., 0.0000e+00, 0.0000e+00,\n",
       "         0.0000e+00],\n",
       "        [7.1777e-01, 2.8223e-01, 0.0000e+00,  ..., 0.0000e+00, 0.0000e+00,\n",
       "         0.0000e+00],\n",
       "        [5.6543e-01, 1.6431e-01, 2.7026e-01,  ..., 0.0000e+00, 0.0000e+00,\n",
       "         0.0000e+00],\n",
       "        ...,\n",
       "        [1.7176e-03, 5.9891e-04, 8.7500e-04,  ..., 1.9054e-03, 0.0000e+00,\n",
       "         0.0000e+00],\n",
       "        [6.9737e-05, 1.8239e-05, 2.3186e-05,  ..., 1.8082e-03, 1.9263e-01,\n",
       "         0.0000e+00],\n",
       "        [3.5048e-05, 5.2452e-06, 1.0133e-05,  ..., 5.9509e-04, 2.4048e-02,\n",
       "         7.6855e-01]], dtype=torch.float16, grad_fn=<SelectBackward0>)"
      ]
     },
     "execution_count": 47,
     "metadata": {},
     "output_type": "execute_result"
    }
   ],
   "source": [
    "# extract attentions from result\n",
    "attentions = lc.extract_embeddings(result,kind=\"attention\")\n",
    "attentions[0].squeeze()[0]"
   ]
  },
  {
   "cell_type": "code",
   "execution_count": 48,
   "id": "179a13c9-b8cf-4fcb-8fcc-6620f8d78658",
   "metadata": {},
   "outputs": [
    {
     "data": {
      "text/plain": [
       "tensor([[[ 1.8387e-03, -3.8147e-03,  9.6130e-04,  ..., -9.0332e-03,\n",
       "           2.6550e-03, -3.7537e-03],\n",
       "         [ 2.7710e-02, -6.0425e-03,  3.4943e-03,  ...,  5.1117e-04,\n",
       "          -8.1787e-03,  6.4087e-03],\n",
       "         [-2.9907e-02, -1.4771e-02, -5.2979e-02,  ...,  4.7302e-03,\n",
       "          -1.7334e-02, -1.2024e-02],\n",
       "         ...,\n",
       "         [-2.9907e-02, -1.4771e-02, -5.2979e-02,  ...,  4.7302e-03,\n",
       "          -1.7334e-02, -1.2024e-02],\n",
       "         [-2.3315e-02, -1.8677e-02,  5.8594e-03,  ...,  1.7578e-02,\n",
       "          -2.0266e-05,  1.2390e-02],\n",
       "         [-1.4954e-03, -3.5095e-04, -1.7624e-03,  ...,  8.8882e-04,\n",
       "           1.6937e-03, -6.9427e-04]]], dtype=torch.float16,\n",
       "       grad_fn=<ToCopyBackward0>)"
      ]
     },
     "execution_count": 48,
     "metadata": {},
     "output_type": "execute_result"
    }
   ],
   "source": [
    "# extract both from result\n",
    "both = lc.extract_embeddings(result,kind=\"both\")\n",
    "both[0][0]"
   ]
  },
  {
   "cell_type": "code",
   "execution_count": 10,
   "id": "9a23aeda-e830-4342-8249-19f2a15c5c53",
   "metadata": {},
   "outputs": [
    {
     "data": {
      "text/plain": [
       "['gpt-4-0314', 'gpt-4-0613', 'gpt-4']"
      ]
     },
     "execution_count": 10,
     "metadata": {},
     "output_type": "execute_result"
    }
   ],
   "source": [
    "#  print available GPT4 models\n",
    "#authenticate openai with your key\n",
    "openai.api_key = os.environ[\"OPENAI\"]\n",
    "[mod[\"id\"] for mod in openai.Model.list()[\"data\"] if mod[\"id\"].startswith(\"gpt-4\")]"
   ]
  },
  {
   "cell_type": "code",
   "execution_count": 14,
   "id": "d1f51b4f-818a-4ad1-aea3-04a857c09d7d",
   "metadata": {},
   "outputs": [],
   "source": [
    "# analgous chat class to LlamaChat but for GPT 4\n",
    "# gpt-4 models\n",
    "model_name = 'gpt-4-0314' #from march 14\n",
    "# model_name = 'gpt-4-0613' #from june 13\n",
    "# model_name = 'gpt-4' #most recent\n",
    "\n",
    "# load chat class\n",
    "gptc = plc.GptChat(model_name)\n"
   ]
  },
  {
   "cell_type": "code",
   "execution_count": 15,
   "id": "aa17e35d-7c48-47e3-ac35-27afe949004e",
   "metadata": {},
   "outputs": [
    {
     "name": "stdout",
     "output_type": "stream",
     "text": [
      "User: Can you use TiKZ code to draw a horse?\n",
      "Assistant: Yes, you can use TiKZ code to draw a horse, but it might be quite complex and time-consuming to create a detailed horse illustration using TiKZ. Here's a simple example of a horse drawing using TiKZ:\n",
      "\n",
      "```latex\n",
      "\\documentclass{standalone}\n",
      "\\usepackage{tikz}\n",
      "\n",
      "\\begin{document}\n",
      "\n",
      "\\begin{tikzpicture}\n",
      "    % Body\n",
      "    \\draw (0,0) ellipse (2 and 1);\n",
      "    \n",
      "    % Head\n",
      "    \\draw (2,0.5) -- (3,1) -- (3.5,0) -- (3,-1) -- (2,-0.5);\n",
      "    \\draw (3,1) -- (3.5,1.5);\n",
      "    \n",
      "    % Legs\n",
      "    \\draw (0.5,-1) -- (0.5,-3);\n",
      "    \\draw (1.5,-1) -- (1.5,-3);\n",
      "    \\draw (-0.5,-1) -- (-0.5,-3);\n",
      "    \\draw (-1.5,-1) -- (-1.5,-3);\n",
      "    \n",
      "    % Tail\n",
      "    \\draw (-2,0) -- (-3,1);\n",
      "\\end{tikzpicture}\n",
      "\n",
      "\\end{document}\n",
      "```\n",
      "\n",
      "This code will produce a very basic and minimalistic horse drawing. For more complex illustrations, you might want to consider using a vector graphics editor like Adobe Illustrator or Inkscape to create the horse drawing and then import it into your LaTeX document as a graphic.\n"
     ]
    },
    {
     "name": "stdin",
     "output_type": "stream",
     "text": [
      "User:  END_THIS_NOW\n"
     ]
    }
   ],
   "source": [
    "# chat with <<model_name>>, again input `END_THIS_NOW` to terminate the dialog and return the (List[Dict]) result\n",
    "result = gptc(test_dialog)"
   ]
  }
 ],
 "metadata": {
  "kernelspec": {
   "display_name": "Python [conda env:llama]",
   "language": "python",
   "name": "conda-env-llama-py"
  },
  "language_info": {
   "codemirror_mode": {
    "name": "ipython",
    "version": 3
   },
   "file_extension": ".py",
   "mimetype": "text/x-python",
   "name": "python",
   "nbconvert_exporter": "python",
   "pygments_lexer": "ipython3",
   "version": "3.10.12"
  }
 },
 "nbformat": 4,
 "nbformat_minor": 5
}
